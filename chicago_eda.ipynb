{
 "cells": [
  {
   "cell_type": "code",
   "execution_count": 1,
   "metadata": {
    "ExecuteTime": {
     "end_time": "2024-04-01T21:14:23.444398Z",
     "start_time": "2024-04-01T21:14:21.964456Z"
    }
   },
   "outputs": [],
   "source": [
    "import pandas as pd"
   ]
  },
  {
   "cell_type": "code",
   "execution_count": 2,
   "metadata": {
    "ExecuteTime": {
     "end_time": "2024-04-01T21:14:39.374084Z",
     "start_time": "2024-04-01T21:14:23.448817Z"
    }
   },
   "outputs": [],
   "source": [
    "# onbaord the chicago dataset file\n",
    "chicago = pd.read_csv(\"C:/Users/CUB\\Documents/CIRCLE PROJECT/chicago-crime-eda/chicago_crime_dataset.csv\")"
   ]
  },
  {
   "cell_type": "code",
   "execution_count": 3,
   "metadata": {
    "ExecuteTime": {
     "end_time": "2024-04-01T21:14:39.458939Z",
     "start_time": "2024-04-01T21:14:39.374084Z"
    }
   },
   "outputs": [
    {
     "data": {
      "text/html": [
       "<div>\n",
       "<style scoped>\n",
       "    .dataframe tbody tr th:only-of-type {\n",
       "        vertical-align: middle;\n",
       "    }\n",
       "\n",
       "    .dataframe tbody tr th {\n",
       "        vertical-align: top;\n",
       "    }\n",
       "\n",
       "    .dataframe thead th {\n",
       "        text-align: right;\n",
       "    }\n",
       "</style>\n",
       "<table border=\"1\" class=\"dataframe\">\n",
       "  <thead>\n",
       "    <tr style=\"text-align: right;\">\n",
       "      <th></th>\n",
       "      <th>Unnamed: 0</th>\n",
       "      <th>ID</th>\n",
       "      <th>Case Number</th>\n",
       "      <th>Date</th>\n",
       "      <th>Block</th>\n",
       "      <th>IUCR</th>\n",
       "      <th>Primary Type</th>\n",
       "      <th>Description</th>\n",
       "      <th>Location Description</th>\n",
       "      <th>Arrest</th>\n",
       "      <th>...</th>\n",
       "      <th>Ward</th>\n",
       "      <th>Community Area</th>\n",
       "      <th>FBI Code</th>\n",
       "      <th>X Coordinate</th>\n",
       "      <th>Y Coordinate</th>\n",
       "      <th>Year</th>\n",
       "      <th>Updated On</th>\n",
       "      <th>Latitude</th>\n",
       "      <th>Longitude</th>\n",
       "      <th>Location</th>\n",
       "    </tr>\n",
       "  </thead>\n",
       "  <tbody>\n",
       "    <tr>\n",
       "      <th>0</th>\n",
       "      <td>0</td>\n",
       "      <td>6407111</td>\n",
       "      <td>HP485721</td>\n",
       "      <td>07/26/2008 02:30:00 PM</td>\n",
       "      <td>085XX S MUSKEGON AVE</td>\n",
       "      <td>1320</td>\n",
       "      <td>CRIMINAL DAMAGE</td>\n",
       "      <td>TO VEHICLE</td>\n",
       "      <td>STREET</td>\n",
       "      <td>False</td>\n",
       "      <td>...</td>\n",
       "      <td>10.0</td>\n",
       "      <td>46.0</td>\n",
       "      <td>14</td>\n",
       "      <td>1196638.0</td>\n",
       "      <td>1848800.0</td>\n",
       "      <td>2008</td>\n",
       "      <td>02/28/2018 03:56:25 PM</td>\n",
       "      <td>41.739980</td>\n",
       "      <td>-87.555120</td>\n",
       "      <td>(41.739979622, -87.555120042)</td>\n",
       "    </tr>\n",
       "    <tr>\n",
       "      <th>1</th>\n",
       "      <td>1</td>\n",
       "      <td>11398199</td>\n",
       "      <td>JB372830</td>\n",
       "      <td>07/31/2018 10:57:00 AM</td>\n",
       "      <td>092XX S ELLIS AVE</td>\n",
       "      <td>143C</td>\n",
       "      <td>WEAPONS VIOLATION</td>\n",
       "      <td>UNLAWFUL POSS AMMUNITION</td>\n",
       "      <td>POOL ROOM</td>\n",
       "      <td>True</td>\n",
       "      <td>...</td>\n",
       "      <td>8.0</td>\n",
       "      <td>47.0</td>\n",
       "      <td>15</td>\n",
       "      <td>1184499.0</td>\n",
       "      <td>1843935.0</td>\n",
       "      <td>2018</td>\n",
       "      <td>08/07/2018 04:02:59 PM</td>\n",
       "      <td>41.726922</td>\n",
       "      <td>-87.599747</td>\n",
       "      <td>(41.726922145, -87.599746995)</td>\n",
       "    </tr>\n",
       "    <tr>\n",
       "      <th>2</th>\n",
       "      <td>2</td>\n",
       "      <td>5488785</td>\n",
       "      <td>HN308568</td>\n",
       "      <td>04/27/2007 10:30:00 AM</td>\n",
       "      <td>062XX N TRIPP AVE</td>\n",
       "      <td>0610</td>\n",
       "      <td>BURGLARY</td>\n",
       "      <td>FORCIBLE ENTRY</td>\n",
       "      <td>RESIDENCE</td>\n",
       "      <td>True</td>\n",
       "      <td>...</td>\n",
       "      <td>39.0</td>\n",
       "      <td>12.0</td>\n",
       "      <td>05</td>\n",
       "      <td>1146911.0</td>\n",
       "      <td>1941022.0</td>\n",
       "      <td>2007</td>\n",
       "      <td>02/28/2018 03:56:25 PM</td>\n",
       "      <td>41.994138</td>\n",
       "      <td>-87.734959</td>\n",
       "      <td>(41.994137622, -87.734959049)</td>\n",
       "    </tr>\n",
       "    <tr>\n",
       "      <th>3</th>\n",
       "      <td>3</td>\n",
       "      <td>11389116</td>\n",
       "      <td>JB361368</td>\n",
       "      <td>07/23/2018 08:55:00 AM</td>\n",
       "      <td>0000X N KEELER AVE</td>\n",
       "      <td>0560</td>\n",
       "      <td>ASSAULT</td>\n",
       "      <td>SIMPLE</td>\n",
       "      <td>NURSING HOME/RETIREMENT HOME</td>\n",
       "      <td>False</td>\n",
       "      <td>...</td>\n",
       "      <td>28.0</td>\n",
       "      <td>26.0</td>\n",
       "      <td>08A</td>\n",
       "      <td>1148388.0</td>\n",
       "      <td>1899882.0</td>\n",
       "      <td>2018</td>\n",
       "      <td>07/30/2018 03:52:24 PM</td>\n",
       "      <td>41.881217</td>\n",
       "      <td>-87.730590</td>\n",
       "      <td>(41.881217483, -87.730589961)</td>\n",
       "    </tr>\n",
       "    <tr>\n",
       "      <th>4</th>\n",
       "      <td>4</td>\n",
       "      <td>12420431</td>\n",
       "      <td>JE297624</td>\n",
       "      <td>07/11/2021 06:40:00 AM</td>\n",
       "      <td>016XX W HARRISON ST</td>\n",
       "      <td>051A</td>\n",
       "      <td>ASSAULT</td>\n",
       "      <td>AGGRAVATED - HANDGUN</td>\n",
       "      <td>PARKING LOT / GARAGE (NON RESIDENTIAL)</td>\n",
       "      <td>False</td>\n",
       "      <td>...</td>\n",
       "      <td>27.0</td>\n",
       "      <td>28.0</td>\n",
       "      <td>04A</td>\n",
       "      <td>1165430.0</td>\n",
       "      <td>1897441.0</td>\n",
       "      <td>2021</td>\n",
       "      <td>07/18/2021 04:56:02 PM</td>\n",
       "      <td>41.874174</td>\n",
       "      <td>-87.668082</td>\n",
       "      <td>(41.874173691, -87.668082118)</td>\n",
       "    </tr>\n",
       "  </tbody>\n",
       "</table>\n",
       "<p>5 rows × 23 columns</p>\n",
       "</div>"
      ],
      "text/plain": [
       "   Unnamed: 0        ID Case Number                    Date  \\\n",
       "0           0   6407111    HP485721  07/26/2008 02:30:00 PM   \n",
       "1           1  11398199    JB372830  07/31/2018 10:57:00 AM   \n",
       "2           2   5488785    HN308568  04/27/2007 10:30:00 AM   \n",
       "3           3  11389116    JB361368  07/23/2018 08:55:00 AM   \n",
       "4           4  12420431    JE297624  07/11/2021 06:40:00 AM   \n",
       "\n",
       "                  Block  IUCR       Primary Type               Description  \\\n",
       "0  085XX S MUSKEGON AVE  1320    CRIMINAL DAMAGE                TO VEHICLE   \n",
       "1     092XX S ELLIS AVE  143C  WEAPONS VIOLATION  UNLAWFUL POSS AMMUNITION   \n",
       "2     062XX N TRIPP AVE  0610           BURGLARY            FORCIBLE ENTRY   \n",
       "3    0000X N KEELER AVE  0560            ASSAULT                    SIMPLE   \n",
       "4   016XX W HARRISON ST  051A            ASSAULT      AGGRAVATED - HANDGUN   \n",
       "\n",
       "                     Location Description  Arrest  ...  Ward  Community Area  \\\n",
       "0                                  STREET   False  ...  10.0            46.0   \n",
       "1                               POOL ROOM    True  ...   8.0            47.0   \n",
       "2                               RESIDENCE    True  ...  39.0            12.0   \n",
       "3            NURSING HOME/RETIREMENT HOME   False  ...  28.0            26.0   \n",
       "4  PARKING LOT / GARAGE (NON RESIDENTIAL)   False  ...  27.0            28.0   \n",
       "\n",
       "   FBI Code  X Coordinate  Y Coordinate  Year              Updated On  \\\n",
       "0        14     1196638.0     1848800.0  2008  02/28/2018 03:56:25 PM   \n",
       "1        15     1184499.0     1843935.0  2018  08/07/2018 04:02:59 PM   \n",
       "2        05     1146911.0     1941022.0  2007  02/28/2018 03:56:25 PM   \n",
       "3       08A     1148388.0     1899882.0  2018  07/30/2018 03:52:24 PM   \n",
       "4       04A     1165430.0     1897441.0  2021  07/18/2021 04:56:02 PM   \n",
       "\n",
       "    Latitude  Longitude                       Location  \n",
       "0  41.739980 -87.555120  (41.739979622, -87.555120042)  \n",
       "1  41.726922 -87.599747  (41.726922145, -87.599746995)  \n",
       "2  41.994138 -87.734959  (41.994137622, -87.734959049)  \n",
       "3  41.881217 -87.730590  (41.881217483, -87.730589961)  \n",
       "4  41.874174 -87.668082  (41.874173691, -87.668082118)  \n",
       "\n",
       "[5 rows x 23 columns]"
      ]
     },
     "execution_count": 3,
     "metadata": {},
     "output_type": "execute_result"
    }
   ],
   "source": [
    "chicago.head()"
   ]
  },
  {
   "cell_type": "code",
   "execution_count": 4,
   "metadata": {
    "ExecuteTime": {
     "end_time": "2024-04-01T21:14:40.963443Z",
     "start_time": "2024-04-01T21:14:39.459155Z"
    }
   },
   "outputs": [
    {
     "data": {
      "text/plain": [
       "Unnamed: 0                   0\n",
       "ID                           0\n",
       "Case Number                  1\n",
       "Date                         0\n",
       "Block                        0\n",
       "IUCR                         0\n",
       "Primary Type                 0\n",
       "Description                  0\n",
       "Location Description      2877\n",
       "Arrest                       0\n",
       "Domestic                     0\n",
       "Beat                         0\n",
       "District                    12\n",
       "Ward                    184695\n",
       "Community Area          184267\n",
       "FBI Code                     0\n",
       "X Coordinate             23985\n",
       "Y Coordinate             23985\n",
       "Year                         0\n",
       "Updated On                   0\n",
       "Latitude                 23985\n",
       "Longitude                23985\n",
       "Location                 23985\n",
       "dtype: int64"
      ]
     },
     "execution_count": 4,
     "metadata": {},
     "output_type": "execute_result"
    }
   ],
   "source": [
    "# Checking for null values\n",
    "chicago.isna().sum()"
   ]
  },
  {
   "cell_type": "code",
   "execution_count": 5,
   "metadata": {
    "ExecuteTime": {
     "end_time": "2024-04-01T21:14:41.271418Z",
     "start_time": "2024-04-01T21:14:40.970951Z"
    }
   },
   "outputs": [],
   "source": [
    "#Dropping redundant columns\n",
    "column_list = ['Case Number', 'Unnamed: 0', 'Location', 'X Coordinate', 'Y Coordinate', 'FBI Code', 'IUCR']\n",
    "chicago.drop(columns=column_list, inplace=True)"
   ]
  },
  {
   "cell_type": "code",
   "execution_count": 6,
   "metadata": {
    "ExecuteTime": {
     "end_time": "2024-04-01T21:14:41.325127Z",
     "start_time": "2024-04-01T21:14:41.276470Z"
    }
   },
   "outputs": [
    {
     "data": {
      "text/html": [
       "<div>\n",
       "<style scoped>\n",
       "    .dataframe tbody tr th:only-of-type {\n",
       "        vertical-align: middle;\n",
       "    }\n",
       "\n",
       "    .dataframe tbody tr th {\n",
       "        vertical-align: top;\n",
       "    }\n",
       "\n",
       "    .dataframe thead th {\n",
       "        text-align: right;\n",
       "    }\n",
       "</style>\n",
       "<table border=\"1\" class=\"dataframe\">\n",
       "  <thead>\n",
       "    <tr style=\"text-align: right;\">\n",
       "      <th></th>\n",
       "      <th>ID</th>\n",
       "      <th>Date</th>\n",
       "      <th>Block</th>\n",
       "      <th>Primary Type</th>\n",
       "      <th>Description</th>\n",
       "      <th>Location Description</th>\n",
       "      <th>Arrest</th>\n",
       "      <th>Domestic</th>\n",
       "      <th>Beat</th>\n",
       "      <th>District</th>\n",
       "      <th>Ward</th>\n",
       "      <th>Community Area</th>\n",
       "      <th>Year</th>\n",
       "      <th>Updated On</th>\n",
       "      <th>Latitude</th>\n",
       "      <th>Longitude</th>\n",
       "    </tr>\n",
       "  </thead>\n",
       "  <tbody>\n",
       "    <tr>\n",
       "      <th>0</th>\n",
       "      <td>6407111</td>\n",
       "      <td>07/26/2008 02:30:00 PM</td>\n",
       "      <td>085XX S MUSKEGON AVE</td>\n",
       "      <td>CRIMINAL DAMAGE</td>\n",
       "      <td>TO VEHICLE</td>\n",
       "      <td>STREET</td>\n",
       "      <td>False</td>\n",
       "      <td>False</td>\n",
       "      <td>423</td>\n",
       "      <td>4.0</td>\n",
       "      <td>10.0</td>\n",
       "      <td>46.0</td>\n",
       "      <td>2008</td>\n",
       "      <td>02/28/2018 03:56:25 PM</td>\n",
       "      <td>41.739980</td>\n",
       "      <td>-87.555120</td>\n",
       "    </tr>\n",
       "    <tr>\n",
       "      <th>1</th>\n",
       "      <td>11398199</td>\n",
       "      <td>07/31/2018 10:57:00 AM</td>\n",
       "      <td>092XX S ELLIS AVE</td>\n",
       "      <td>WEAPONS VIOLATION</td>\n",
       "      <td>UNLAWFUL POSS AMMUNITION</td>\n",
       "      <td>POOL ROOM</td>\n",
       "      <td>True</td>\n",
       "      <td>False</td>\n",
       "      <td>413</td>\n",
       "      <td>4.0</td>\n",
       "      <td>8.0</td>\n",
       "      <td>47.0</td>\n",
       "      <td>2018</td>\n",
       "      <td>08/07/2018 04:02:59 PM</td>\n",
       "      <td>41.726922</td>\n",
       "      <td>-87.599747</td>\n",
       "    </tr>\n",
       "    <tr>\n",
       "      <th>2</th>\n",
       "      <td>5488785</td>\n",
       "      <td>04/27/2007 10:30:00 AM</td>\n",
       "      <td>062XX N TRIPP AVE</td>\n",
       "      <td>BURGLARY</td>\n",
       "      <td>FORCIBLE ENTRY</td>\n",
       "      <td>RESIDENCE</td>\n",
       "      <td>True</td>\n",
       "      <td>False</td>\n",
       "      <td>1711</td>\n",
       "      <td>17.0</td>\n",
       "      <td>39.0</td>\n",
       "      <td>12.0</td>\n",
       "      <td>2007</td>\n",
       "      <td>02/28/2018 03:56:25 PM</td>\n",
       "      <td>41.994138</td>\n",
       "      <td>-87.734959</td>\n",
       "    </tr>\n",
       "    <tr>\n",
       "      <th>3</th>\n",
       "      <td>11389116</td>\n",
       "      <td>07/23/2018 08:55:00 AM</td>\n",
       "      <td>0000X N KEELER AVE</td>\n",
       "      <td>ASSAULT</td>\n",
       "      <td>SIMPLE</td>\n",
       "      <td>NURSING HOME/RETIREMENT HOME</td>\n",
       "      <td>False</td>\n",
       "      <td>False</td>\n",
       "      <td>1115</td>\n",
       "      <td>11.0</td>\n",
       "      <td>28.0</td>\n",
       "      <td>26.0</td>\n",
       "      <td>2018</td>\n",
       "      <td>07/30/2018 03:52:24 PM</td>\n",
       "      <td>41.881217</td>\n",
       "      <td>-87.730590</td>\n",
       "    </tr>\n",
       "    <tr>\n",
       "      <th>4</th>\n",
       "      <td>12420431</td>\n",
       "      <td>07/11/2021 06:40:00 AM</td>\n",
       "      <td>016XX W HARRISON ST</td>\n",
       "      <td>ASSAULT</td>\n",
       "      <td>AGGRAVATED - HANDGUN</td>\n",
       "      <td>PARKING LOT / GARAGE (NON RESIDENTIAL)</td>\n",
       "      <td>False</td>\n",
       "      <td>False</td>\n",
       "      <td>1231</td>\n",
       "      <td>12.0</td>\n",
       "      <td>27.0</td>\n",
       "      <td>28.0</td>\n",
       "      <td>2021</td>\n",
       "      <td>07/18/2021 04:56:02 PM</td>\n",
       "      <td>41.874174</td>\n",
       "      <td>-87.668082</td>\n",
       "    </tr>\n",
       "  </tbody>\n",
       "</table>\n",
       "</div>"
      ],
      "text/plain": [
       "         ID                    Date                 Block       Primary Type  \\\n",
       "0   6407111  07/26/2008 02:30:00 PM  085XX S MUSKEGON AVE    CRIMINAL DAMAGE   \n",
       "1  11398199  07/31/2018 10:57:00 AM     092XX S ELLIS AVE  WEAPONS VIOLATION   \n",
       "2   5488785  04/27/2007 10:30:00 AM     062XX N TRIPP AVE           BURGLARY   \n",
       "3  11389116  07/23/2018 08:55:00 AM    0000X N KEELER AVE            ASSAULT   \n",
       "4  12420431  07/11/2021 06:40:00 AM   016XX W HARRISON ST            ASSAULT   \n",
       "\n",
       "                Description                    Location Description  Arrest  \\\n",
       "0                TO VEHICLE                                  STREET   False   \n",
       "1  UNLAWFUL POSS AMMUNITION                               POOL ROOM    True   \n",
       "2            FORCIBLE ENTRY                               RESIDENCE    True   \n",
       "3                    SIMPLE            NURSING HOME/RETIREMENT HOME   False   \n",
       "4      AGGRAVATED - HANDGUN  PARKING LOT / GARAGE (NON RESIDENTIAL)   False   \n",
       "\n",
       "   Domestic  Beat  District  Ward  Community Area  Year  \\\n",
       "0     False   423       4.0  10.0            46.0  2008   \n",
       "1     False   413       4.0   8.0            47.0  2018   \n",
       "2     False  1711      17.0  39.0            12.0  2007   \n",
       "3     False  1115      11.0  28.0            26.0  2018   \n",
       "4     False  1231      12.0  27.0            28.0  2021   \n",
       "\n",
       "               Updated On   Latitude  Longitude  \n",
       "0  02/28/2018 03:56:25 PM  41.739980 -87.555120  \n",
       "1  08/07/2018 04:02:59 PM  41.726922 -87.599747  \n",
       "2  02/28/2018 03:56:25 PM  41.994138 -87.734959  \n",
       "3  07/30/2018 03:52:24 PM  41.881217 -87.730590  \n",
       "4  07/18/2021 04:56:02 PM  41.874174 -87.668082  "
      ]
     },
     "execution_count": 6,
     "metadata": {},
     "output_type": "execute_result"
    }
   ],
   "source": [
    "chicago.head()"
   ]
  },
  {
   "cell_type": "code",
   "execution_count": 7,
   "metadata": {
    "ExecuteTime": {
     "end_time": "2024-04-01T21:14:42.248587Z",
     "start_time": "2024-04-01T21:14:41.326341Z"
    }
   },
   "outputs": [
    {
     "data": {
      "text/plain": [
       "ID                           0\n",
       "Date                         0\n",
       "Block                        0\n",
       "Primary Type                 0\n",
       "Description                  0\n",
       "Location Description      2877\n",
       "Arrest                       0\n",
       "Domestic                     0\n",
       "Beat                         0\n",
       "District                    12\n",
       "Ward                    184695\n",
       "Community Area          184267\n",
       "Year                         0\n",
       "Updated On                   0\n",
       "Latitude                 23985\n",
       "Longitude                23985\n",
       "dtype: int64"
      ]
     },
     "execution_count": 7,
     "metadata": {},
     "output_type": "execute_result"
    }
   ],
   "source": [
    "chicago.isna().sum()"
   ]
  },
  {
   "cell_type": "code",
   "execution_count": 8,
   "metadata": {
    "ExecuteTime": {
     "end_time": "2024-04-01T21:14:43.054108Z",
     "start_time": "2024-04-01T21:14:42.251594Z"
    }
   },
   "outputs": [],
   "source": [
    "# drop all null longitude and latitude\n",
    "chicago.dropna(subset=['Longitude'], inplace=True) \n",
    "chicago.dropna(subset=['Latitude'], inplace=True)  "
   ]
  },
  {
   "cell_type": "code",
   "execution_count": 9,
   "metadata": {
    "ExecuteTime": {
     "end_time": "2024-04-01T21:14:43.999380Z",
     "start_time": "2024-04-01T21:14:43.059402Z"
    }
   },
   "outputs": [
    {
     "data": {
      "text/plain": [
       "ID                           0\n",
       "Date                         0\n",
       "Block                        0\n",
       "Primary Type                 0\n",
       "Description                  0\n",
       "Location Description      1869\n",
       "Arrest                       0\n",
       "Domestic                     0\n",
       "Beat                         0\n",
       "District                    12\n",
       "Ward                    181939\n",
       "Community Area          181546\n",
       "Year                         0\n",
       "Updated On                   0\n",
       "Latitude                     0\n",
       "Longitude                    0\n",
       "dtype: int64"
      ]
     },
     "execution_count": 9,
     "metadata": {},
     "output_type": "execute_result"
    }
   ],
   "source": [
    "chicago.isna().sum()"
   ]
  },
  {
   "cell_type": "code",
   "execution_count": 10,
   "metadata": {
    "ExecuteTime": {
     "end_time": "2024-04-01T21:14:44.509793Z",
     "start_time": "2024-04-01T21:14:43.999380Z"
    }
   },
   "outputs": [],
   "source": [
    "# Using forward fill to replace the null values\n",
    "chicago['Location Description'] = chicago['Location Description'].ffill()\n",
    "chicago['District'] = chicago['District'].ffill()\n",
    "chicago['Ward'] = chicago['Ward'].ffill()\n",
    "chicago['Community Area'] = chicago['Community Area'].ffill()"
   ]
  },
  {
   "cell_type": "code",
   "execution_count": 11,
   "metadata": {
    "ExecuteTime": {
     "end_time": "2024-04-01T21:14:45.495128Z",
     "start_time": "2024-04-01T21:14:44.510650Z"
    }
   },
   "outputs": [
    {
     "data": {
      "text/plain": [
       "ID                      0\n",
       "Date                    0\n",
       "Block                   0\n",
       "Primary Type            0\n",
       "Description             0\n",
       "Location Description    0\n",
       "Arrest                  0\n",
       "Domestic                0\n",
       "Beat                    0\n",
       "District                0\n",
       "Ward                    0\n",
       "Community Area          0\n",
       "Year                    0\n",
       "Updated On              0\n",
       "Latitude                0\n",
       "Longitude               0\n",
       "dtype: int64"
      ]
     },
     "execution_count": 11,
     "metadata": {},
     "output_type": "execute_result"
    }
   ],
   "source": [
    "chicago.isna().sum()"
   ]
  },
  {
   "cell_type": "code",
   "execution_count": 12,
   "metadata": {
    "ExecuteTime": {
     "end_time": "2024-04-01T21:14:45.526996Z",
     "start_time": "2024-04-01T21:14:45.499898Z"
    }
   },
   "outputs": [],
   "source": [
    "# Creating a dictionary for community area for mapping\n",
    "community = {1.0 : 'Rogers Park',\n",
    "                2.0 : 'West Ridge',\n",
    "                3.0 : 'Uptown',\n",
    "               4.0 : 'Lincoln Square',\n",
    "                6.0 : 'Lake View',\n",
    "                7.0 : 'Lincoln Park',\n",
    "                8.0 : 'Near North Side',\n",
    "                9.0 : 'Edison Park',\n",
    "                10.0 : 'Norwood Park',\n",
    "                11.0 : 'Jefferson Park',\n",
    "                12.0 : 'Forest Glen',\n",
    "                13.0 : 'North Park',\n",
    "                14.0 : 'Albany Park',\n",
    "                15.0 : 'Portage Park',\n",
    "                16.0 : 'Irving Park',\n",
    "                17.0 : 'Dunning',\n",
    "                18.0 : 'Montclare',\n",
    "                19.0 : 'Belmont Cragin',\n",
    "                20.0 : 'Hermosa',\n",
    "                21.0 : 'Avondale',\n",
    "                22.0 : 'Logan Square',\n",
    "                23.0 : 'Humboldt Park',\n",
    "                24.0 : 'West Town',\n",
    "                25.0 : 'Austin',\n",
    "                26.0 : 'West Garfield Park',\n",
    "                27.0 : 'East Garfield Park',\n",
    "                28.0 : 'Near West Side',\n",
    "                29.0 : 'North Lawndale',\n",
    "                30.0 : 'South Lawndale',\n",
    "                31.0 : 'Lower West Side',\n",
    "                32.0 : '(The) Loop',\n",
    "               33.0 : 'Near South Side',\n",
    "                34.0 : 'Armour Square',\n",
    "                35.0 : 'Douglas',\n",
    "                36.0 : 'Oakland',\n",
    "                37.0 : 'Fuller Park',\n",
    "                38.0: 'Grand Boulevard',\n",
    "                39.0 : 'Kenwood',\n",
    "                40.0 : 'Washington Park',\n",
    "                41.0 : 'Hyde Park',\n",
    "                42.0 : 'Woodlawn',\n",
    "                43.0 : 'South Shore',\n",
    "                44.0 : 'Chatham',\n",
    "                45.0 : 'Avalon Park',\n",
    "                46.0 : 'South Chicago',\n",
    "                47.0 : 'Burnside',\n",
    "                48.0 : 'Calumet Heights',\n",
    "                49.0 : 'Roseland',\n",
    "                50.0 : 'Pullman',\n",
    "                51.0: 'South Deering',\n",
    "                52.0 : 'East Side',\n",
    "                53.0 : 'West Pullman',\n",
    "                54.0 : 'Riverdale',\n",
    "                55.0 : 'Hegewisch',\n",
    "                56.0 : 'Garfield Ridge',\n",
    "                57.0 : 'Archer Heights',\n",
    "                58.0 : 'Brighton Park',\n",
    "                59.0 : 'McKinley Park',\n",
    "                60.0 : 'Bridgeport',\n",
    "                61.0 : 'New City',\n",
    "                62.0 : 'West Elsdon',\n",
    "                63.0 : 'Gage Park',\n",
    "                64.0 : 'Clearing',\n",
    "                65.0 : 'West Lawn',\n",
    "                66.0 : 'Chicago Lawn',\n",
    "                67.0 : 'West Englewood',\n",
    "                68.0 : 'Englewood',\n",
    "                69.0 : 'Greater Grand Crossing',\n",
    "                70.0 : 'Ashburn',\n",
    "                71.0 : 'Auburn Gresham',\n",
    "                72.0 : 'Beverly',\n",
    "                73.0 : 'Washington Heights',\n",
    "                74.0 : 'Mount Greenwood',\n",
    "                75.0: 'Morgan Park',\n",
    "                76.0 : 'OHare',\n",
    "                77.0 : 'Edgewater',\n",
    "                }"
   ]
  },
  {
   "cell_type": "code",
   "execution_count": 13,
   "metadata": {
    "ExecuteTime": {
     "end_time": "2024-04-01T21:14:45.724611Z",
     "start_time": "2024-04-01T21:14:45.526996Z"
    }
   },
   "outputs": [],
   "source": [
    "# Creating a Column with Community Name\n",
    "chicago['Community Name'] = chicago['Community Area'].map(community)"
   ]
  },
  {
   "cell_type": "code",
   "execution_count": 14,
   "metadata": {
    "ExecuteTime": {
     "end_time": "2024-04-01T21:14:45.789890Z",
     "start_time": "2024-04-01T21:14:45.741102Z"
    }
   },
   "outputs": [
    {
     "data": {
      "text/html": [
       "<div>\n",
       "<style scoped>\n",
       "    .dataframe tbody tr th:only-of-type {\n",
       "        vertical-align: middle;\n",
       "    }\n",
       "\n",
       "    .dataframe tbody tr th {\n",
       "        vertical-align: top;\n",
       "    }\n",
       "\n",
       "    .dataframe thead th {\n",
       "        text-align: right;\n",
       "    }\n",
       "</style>\n",
       "<table border=\"1\" class=\"dataframe\">\n",
       "  <thead>\n",
       "    <tr style=\"text-align: right;\">\n",
       "      <th></th>\n",
       "      <th>ID</th>\n",
       "      <th>Date</th>\n",
       "      <th>Block</th>\n",
       "      <th>Primary Type</th>\n",
       "      <th>Description</th>\n",
       "      <th>Location Description</th>\n",
       "      <th>Arrest</th>\n",
       "      <th>Domestic</th>\n",
       "      <th>Beat</th>\n",
       "      <th>District</th>\n",
       "      <th>Ward</th>\n",
       "      <th>Community Area</th>\n",
       "      <th>Year</th>\n",
       "      <th>Updated On</th>\n",
       "      <th>Latitude</th>\n",
       "      <th>Longitude</th>\n",
       "      <th>Community Name</th>\n",
       "    </tr>\n",
       "  </thead>\n",
       "  <tbody>\n",
       "    <tr>\n",
       "      <th>0</th>\n",
       "      <td>6407111</td>\n",
       "      <td>07/26/2008 02:30:00 PM</td>\n",
       "      <td>085XX S MUSKEGON AVE</td>\n",
       "      <td>CRIMINAL DAMAGE</td>\n",
       "      <td>TO VEHICLE</td>\n",
       "      <td>STREET</td>\n",
       "      <td>False</td>\n",
       "      <td>False</td>\n",
       "      <td>423</td>\n",
       "      <td>4.0</td>\n",
       "      <td>10.0</td>\n",
       "      <td>46.0</td>\n",
       "      <td>2008</td>\n",
       "      <td>02/28/2018 03:56:25 PM</td>\n",
       "      <td>41.739980</td>\n",
       "      <td>-87.555120</td>\n",
       "      <td>South Chicago</td>\n",
       "    </tr>\n",
       "    <tr>\n",
       "      <th>1</th>\n",
       "      <td>11398199</td>\n",
       "      <td>07/31/2018 10:57:00 AM</td>\n",
       "      <td>092XX S ELLIS AVE</td>\n",
       "      <td>WEAPONS VIOLATION</td>\n",
       "      <td>UNLAWFUL POSS AMMUNITION</td>\n",
       "      <td>POOL ROOM</td>\n",
       "      <td>True</td>\n",
       "      <td>False</td>\n",
       "      <td>413</td>\n",
       "      <td>4.0</td>\n",
       "      <td>8.0</td>\n",
       "      <td>47.0</td>\n",
       "      <td>2018</td>\n",
       "      <td>08/07/2018 04:02:59 PM</td>\n",
       "      <td>41.726922</td>\n",
       "      <td>-87.599747</td>\n",
       "      <td>Burnside</td>\n",
       "    </tr>\n",
       "    <tr>\n",
       "      <th>2</th>\n",
       "      <td>5488785</td>\n",
       "      <td>04/27/2007 10:30:00 AM</td>\n",
       "      <td>062XX N TRIPP AVE</td>\n",
       "      <td>BURGLARY</td>\n",
       "      <td>FORCIBLE ENTRY</td>\n",
       "      <td>RESIDENCE</td>\n",
       "      <td>True</td>\n",
       "      <td>False</td>\n",
       "      <td>1711</td>\n",
       "      <td>17.0</td>\n",
       "      <td>39.0</td>\n",
       "      <td>12.0</td>\n",
       "      <td>2007</td>\n",
       "      <td>02/28/2018 03:56:25 PM</td>\n",
       "      <td>41.994138</td>\n",
       "      <td>-87.734959</td>\n",
       "      <td>Forest Glen</td>\n",
       "    </tr>\n",
       "    <tr>\n",
       "      <th>3</th>\n",
       "      <td>11389116</td>\n",
       "      <td>07/23/2018 08:55:00 AM</td>\n",
       "      <td>0000X N KEELER AVE</td>\n",
       "      <td>ASSAULT</td>\n",
       "      <td>SIMPLE</td>\n",
       "      <td>NURSING HOME/RETIREMENT HOME</td>\n",
       "      <td>False</td>\n",
       "      <td>False</td>\n",
       "      <td>1115</td>\n",
       "      <td>11.0</td>\n",
       "      <td>28.0</td>\n",
       "      <td>26.0</td>\n",
       "      <td>2018</td>\n",
       "      <td>07/30/2018 03:52:24 PM</td>\n",
       "      <td>41.881217</td>\n",
       "      <td>-87.730590</td>\n",
       "      <td>West Garfield Park</td>\n",
       "    </tr>\n",
       "    <tr>\n",
       "      <th>4</th>\n",
       "      <td>12420431</td>\n",
       "      <td>07/11/2021 06:40:00 AM</td>\n",
       "      <td>016XX W HARRISON ST</td>\n",
       "      <td>ASSAULT</td>\n",
       "      <td>AGGRAVATED - HANDGUN</td>\n",
       "      <td>PARKING LOT / GARAGE (NON RESIDENTIAL)</td>\n",
       "      <td>False</td>\n",
       "      <td>False</td>\n",
       "      <td>1231</td>\n",
       "      <td>12.0</td>\n",
       "      <td>27.0</td>\n",
       "      <td>28.0</td>\n",
       "      <td>2021</td>\n",
       "      <td>07/18/2021 04:56:02 PM</td>\n",
       "      <td>41.874174</td>\n",
       "      <td>-87.668082</td>\n",
       "      <td>Near West Side</td>\n",
       "    </tr>\n",
       "  </tbody>\n",
       "</table>\n",
       "</div>"
      ],
      "text/plain": [
       "         ID                    Date                 Block       Primary Type  \\\n",
       "0   6407111  07/26/2008 02:30:00 PM  085XX S MUSKEGON AVE    CRIMINAL DAMAGE   \n",
       "1  11398199  07/31/2018 10:57:00 AM     092XX S ELLIS AVE  WEAPONS VIOLATION   \n",
       "2   5488785  04/27/2007 10:30:00 AM     062XX N TRIPP AVE           BURGLARY   \n",
       "3  11389116  07/23/2018 08:55:00 AM    0000X N KEELER AVE            ASSAULT   \n",
       "4  12420431  07/11/2021 06:40:00 AM   016XX W HARRISON ST            ASSAULT   \n",
       "\n",
       "                Description                    Location Description  Arrest  \\\n",
       "0                TO VEHICLE                                  STREET   False   \n",
       "1  UNLAWFUL POSS AMMUNITION                               POOL ROOM    True   \n",
       "2            FORCIBLE ENTRY                               RESIDENCE    True   \n",
       "3                    SIMPLE            NURSING HOME/RETIREMENT HOME   False   \n",
       "4      AGGRAVATED - HANDGUN  PARKING LOT / GARAGE (NON RESIDENTIAL)   False   \n",
       "\n",
       "   Domestic  Beat  District  Ward  Community Area  Year  \\\n",
       "0     False   423       4.0  10.0            46.0  2008   \n",
       "1     False   413       4.0   8.0            47.0  2018   \n",
       "2     False  1711      17.0  39.0            12.0  2007   \n",
       "3     False  1115      11.0  28.0            26.0  2018   \n",
       "4     False  1231      12.0  27.0            28.0  2021   \n",
       "\n",
       "               Updated On   Latitude  Longitude      Community Name  \n",
       "0  02/28/2018 03:56:25 PM  41.739980 -87.555120       South Chicago  \n",
       "1  08/07/2018 04:02:59 PM  41.726922 -87.599747            Burnside  \n",
       "2  02/28/2018 03:56:25 PM  41.994138 -87.734959         Forest Glen  \n",
       "3  07/30/2018 03:52:24 PM  41.881217 -87.730590  West Garfield Park  \n",
       "4  07/18/2021 04:56:02 PM  41.874174 -87.668082      Near West Side  "
      ]
     },
     "execution_count": 14,
     "metadata": {},
     "output_type": "execute_result"
    }
   ],
   "source": [
    "chicago.head()"
   ]
  },
  {
   "cell_type": "code",
   "execution_count": 15,
   "metadata": {
    "ExecuteTime": {
     "end_time": "2024-04-01T21:14:46.854590Z",
     "start_time": "2024-04-01T21:14:45.795675Z"
    }
   },
   "outputs": [
    {
     "data": {
      "text/plain": [
       "ID                          0\n",
       "Date                        0\n",
       "Block                       0\n",
       "Primary Type                0\n",
       "Description                 0\n",
       "Location Description        0\n",
       "Arrest                      0\n",
       "Domestic                    0\n",
       "Beat                        0\n",
       "District                    0\n",
       "Ward                        0\n",
       "Community Area              0\n",
       "Year                        0\n",
       "Updated On                  0\n",
       "Latitude                    0\n",
       "Longitude                   0\n",
       "Community Name          13370\n",
       "dtype: int64"
      ]
     },
     "execution_count": 15,
     "metadata": {},
     "output_type": "execute_result"
    }
   ],
   "source": [
    "chicago.isna().sum()"
   ]
  },
  {
   "cell_type": "code",
   "execution_count": 16,
   "metadata": {
    "ExecuteTime": {
     "end_time": "2024-04-01T21:14:47.607063Z",
     "start_time": "2024-04-01T21:14:46.860972Z"
    }
   },
   "outputs": [],
   "source": [
    "# Dropping null values in Community Name\n",
    "chicago.dropna(subset=['Community Name'], inplace=True) "
   ]
  },
  {
   "cell_type": "code",
   "execution_count": 17,
   "metadata": {
    "ExecuteTime": {
     "end_time": "2024-04-01T21:14:48.702197Z",
     "start_time": "2024-04-01T21:14:47.612162Z"
    }
   },
   "outputs": [
    {
     "data": {
      "text/plain": [
       "ID                      0\n",
       "Date                    0\n",
       "Block                   0\n",
       "Primary Type            0\n",
       "Description             0\n",
       "Location Description    0\n",
       "Arrest                  0\n",
       "Domestic                0\n",
       "Beat                    0\n",
       "District                0\n",
       "Ward                    0\n",
       "Community Area          0\n",
       "Year                    0\n",
       "Updated On              0\n",
       "Latitude                0\n",
       "Longitude               0\n",
       "Community Name          0\n",
       "dtype: int64"
      ]
     },
     "execution_count": 17,
     "metadata": {},
     "output_type": "execute_result"
    }
   ],
   "source": [
    "chicago.isna().sum()"
   ]
  },
  {
   "cell_type": "code",
   "execution_count": 18,
   "metadata": {
    "ExecuteTime": {
     "end_time": "2024-04-01T21:14:48.750371Z",
     "start_time": "2024-04-01T21:14:48.702423Z"
    }
   },
   "outputs": [
    {
     "name": "stdout",
     "output_type": "stream",
     "text": [
      "<class 'pandas.core.frame.DataFrame'>\n",
      "Index: 2241371 entries, 0 to 2278725\n",
      "Data columns (total 17 columns):\n",
      " #   Column                Dtype  \n",
      "---  ------                -----  \n",
      " 0   ID                    int64  \n",
      " 1   Date                  object \n",
      " 2   Block                 object \n",
      " 3   Primary Type          object \n",
      " 4   Description           object \n",
      " 5   Location Description  object \n",
      " 6   Arrest                bool   \n",
      " 7   Domestic              bool   \n",
      " 8   Beat                  int64  \n",
      " 9   District              float64\n",
      " 10  Ward                  float64\n",
      " 11  Community Area        float64\n",
      " 12  Year                  int64  \n",
      " 13  Updated On            object \n",
      " 14  Latitude              float64\n",
      " 15  Longitude             float64\n",
      " 16  Community Name        object \n",
      "dtypes: bool(2), float64(5), int64(3), object(7)\n",
      "memory usage: 277.9+ MB\n"
     ]
    }
   ],
   "source": [
    "chicago.info()"
   ]
  },
  {
   "cell_type": "code",
   "execution_count": 19,
   "metadata": {
    "ExecuteTime": {
     "end_time": "2024-04-01T21:25:34.909785Z",
     "start_time": "2024-04-01T21:14:48.750371Z"
    }
   },
   "outputs": [
    {
     "name": "stderr",
     "output_type": "stream",
     "text": [
      "C:\\Users\\CUB\\AppData\\Local\\Temp\\ipykernel_23592\\3236970243.py:2: UserWarning: Could not infer format, so each element will be parsed individually, falling back to `dateutil`. To ensure parsing is consistent and as-expected, please specify a format.\n",
      "  chicago['Date'] = pd.to_datetime(chicago['Date'])\n",
      "C:\\Users\\CUB\\AppData\\Local\\Temp\\ipykernel_23592\\3236970243.py:3: UserWarning: Could not infer format, so each element will be parsed individually, falling back to `dateutil`. To ensure parsing is consistent and as-expected, please specify a format.\n",
      "  chicago['Updated On'] = pd.to_datetime(chicago['Updated On'])\n"
     ]
    }
   ],
   "source": [
    "# convert datetime to date\n",
    "chicago['Date'] = pd.to_datetime(chicago['Date'])\n",
    "chicago['Updated On'] = pd.to_datetime(chicago['Updated On'])"
   ]
  },
  {
   "cell_type": "code",
   "execution_count": 20,
   "metadata": {
    "ExecuteTime": {
     "end_time": "2024-04-01T21:25:35.013218Z",
     "start_time": "2024-04-01T21:25:34.921214Z"
    }
   },
   "outputs": [
    {
     "data": {
      "text/html": [
       "<div>\n",
       "<style scoped>\n",
       "    .dataframe tbody tr th:only-of-type {\n",
       "        vertical-align: middle;\n",
       "    }\n",
       "\n",
       "    .dataframe tbody tr th {\n",
       "        vertical-align: top;\n",
       "    }\n",
       "\n",
       "    .dataframe thead th {\n",
       "        text-align: right;\n",
       "    }\n",
       "</style>\n",
       "<table border=\"1\" class=\"dataframe\">\n",
       "  <thead>\n",
       "    <tr style=\"text-align: right;\">\n",
       "      <th></th>\n",
       "      <th>ID</th>\n",
       "      <th>Date</th>\n",
       "      <th>Block</th>\n",
       "      <th>Primary Type</th>\n",
       "      <th>Description</th>\n",
       "      <th>Location Description</th>\n",
       "      <th>Arrest</th>\n",
       "      <th>Domestic</th>\n",
       "      <th>Beat</th>\n",
       "      <th>District</th>\n",
       "      <th>Ward</th>\n",
       "      <th>Community Area</th>\n",
       "      <th>Year</th>\n",
       "      <th>Updated On</th>\n",
       "      <th>Latitude</th>\n",
       "      <th>Longitude</th>\n",
       "      <th>Community Name</th>\n",
       "    </tr>\n",
       "  </thead>\n",
       "  <tbody>\n",
       "    <tr>\n",
       "      <th>0</th>\n",
       "      <td>6407111</td>\n",
       "      <td>2008-07-26 14:30:00</td>\n",
       "      <td>085XX S MUSKEGON AVE</td>\n",
       "      <td>CRIMINAL DAMAGE</td>\n",
       "      <td>TO VEHICLE</td>\n",
       "      <td>STREET</td>\n",
       "      <td>False</td>\n",
       "      <td>False</td>\n",
       "      <td>423</td>\n",
       "      <td>4.0</td>\n",
       "      <td>10.0</td>\n",
       "      <td>46.0</td>\n",
       "      <td>2008</td>\n",
       "      <td>2018-02-28 15:56:25</td>\n",
       "      <td>41.739980</td>\n",
       "      <td>-87.555120</td>\n",
       "      <td>South Chicago</td>\n",
       "    </tr>\n",
       "    <tr>\n",
       "      <th>1</th>\n",
       "      <td>11398199</td>\n",
       "      <td>2018-07-31 10:57:00</td>\n",
       "      <td>092XX S ELLIS AVE</td>\n",
       "      <td>WEAPONS VIOLATION</td>\n",
       "      <td>UNLAWFUL POSS AMMUNITION</td>\n",
       "      <td>POOL ROOM</td>\n",
       "      <td>True</td>\n",
       "      <td>False</td>\n",
       "      <td>413</td>\n",
       "      <td>4.0</td>\n",
       "      <td>8.0</td>\n",
       "      <td>47.0</td>\n",
       "      <td>2018</td>\n",
       "      <td>2018-08-07 16:02:59</td>\n",
       "      <td>41.726922</td>\n",
       "      <td>-87.599747</td>\n",
       "      <td>Burnside</td>\n",
       "    </tr>\n",
       "    <tr>\n",
       "      <th>2</th>\n",
       "      <td>5488785</td>\n",
       "      <td>2007-04-27 10:30:00</td>\n",
       "      <td>062XX N TRIPP AVE</td>\n",
       "      <td>BURGLARY</td>\n",
       "      <td>FORCIBLE ENTRY</td>\n",
       "      <td>RESIDENCE</td>\n",
       "      <td>True</td>\n",
       "      <td>False</td>\n",
       "      <td>1711</td>\n",
       "      <td>17.0</td>\n",
       "      <td>39.0</td>\n",
       "      <td>12.0</td>\n",
       "      <td>2007</td>\n",
       "      <td>2018-02-28 15:56:25</td>\n",
       "      <td>41.994138</td>\n",
       "      <td>-87.734959</td>\n",
       "      <td>Forest Glen</td>\n",
       "    </tr>\n",
       "    <tr>\n",
       "      <th>3</th>\n",
       "      <td>11389116</td>\n",
       "      <td>2018-07-23 08:55:00</td>\n",
       "      <td>0000X N KEELER AVE</td>\n",
       "      <td>ASSAULT</td>\n",
       "      <td>SIMPLE</td>\n",
       "      <td>NURSING HOME/RETIREMENT HOME</td>\n",
       "      <td>False</td>\n",
       "      <td>False</td>\n",
       "      <td>1115</td>\n",
       "      <td>11.0</td>\n",
       "      <td>28.0</td>\n",
       "      <td>26.0</td>\n",
       "      <td>2018</td>\n",
       "      <td>2018-07-30 15:52:24</td>\n",
       "      <td>41.881217</td>\n",
       "      <td>-87.730590</td>\n",
       "      <td>West Garfield Park</td>\n",
       "    </tr>\n",
       "    <tr>\n",
       "      <th>4</th>\n",
       "      <td>12420431</td>\n",
       "      <td>2021-07-11 06:40:00</td>\n",
       "      <td>016XX W HARRISON ST</td>\n",
       "      <td>ASSAULT</td>\n",
       "      <td>AGGRAVATED - HANDGUN</td>\n",
       "      <td>PARKING LOT / GARAGE (NON RESIDENTIAL)</td>\n",
       "      <td>False</td>\n",
       "      <td>False</td>\n",
       "      <td>1231</td>\n",
       "      <td>12.0</td>\n",
       "      <td>27.0</td>\n",
       "      <td>28.0</td>\n",
       "      <td>2021</td>\n",
       "      <td>2021-07-18 16:56:02</td>\n",
       "      <td>41.874174</td>\n",
       "      <td>-87.668082</td>\n",
       "      <td>Near West Side</td>\n",
       "    </tr>\n",
       "  </tbody>\n",
       "</table>\n",
       "</div>"
      ],
      "text/plain": [
       "         ID                Date                 Block       Primary Type  \\\n",
       "0   6407111 2008-07-26 14:30:00  085XX S MUSKEGON AVE    CRIMINAL DAMAGE   \n",
       "1  11398199 2018-07-31 10:57:00     092XX S ELLIS AVE  WEAPONS VIOLATION   \n",
       "2   5488785 2007-04-27 10:30:00     062XX N TRIPP AVE           BURGLARY   \n",
       "3  11389116 2018-07-23 08:55:00    0000X N KEELER AVE            ASSAULT   \n",
       "4  12420431 2021-07-11 06:40:00   016XX W HARRISON ST            ASSAULT   \n",
       "\n",
       "                Description                    Location Description  Arrest  \\\n",
       "0                TO VEHICLE                                  STREET   False   \n",
       "1  UNLAWFUL POSS AMMUNITION                               POOL ROOM    True   \n",
       "2            FORCIBLE ENTRY                               RESIDENCE    True   \n",
       "3                    SIMPLE            NURSING HOME/RETIREMENT HOME   False   \n",
       "4      AGGRAVATED - HANDGUN  PARKING LOT / GARAGE (NON RESIDENTIAL)   False   \n",
       "\n",
       "   Domestic  Beat  District  Ward  Community Area  Year          Updated On  \\\n",
       "0     False   423       4.0  10.0            46.0  2008 2018-02-28 15:56:25   \n",
       "1     False   413       4.0   8.0            47.0  2018 2018-08-07 16:02:59   \n",
       "2     False  1711      17.0  39.0            12.0  2007 2018-02-28 15:56:25   \n",
       "3     False  1115      11.0  28.0            26.0  2018 2018-07-30 15:52:24   \n",
       "4     False  1231      12.0  27.0            28.0  2021 2021-07-18 16:56:02   \n",
       "\n",
       "    Latitude  Longitude      Community Name  \n",
       "0  41.739980 -87.555120       South Chicago  \n",
       "1  41.726922 -87.599747            Burnside  \n",
       "2  41.994138 -87.734959         Forest Glen  \n",
       "3  41.881217 -87.730590  West Garfield Park  \n",
       "4  41.874174 -87.668082      Near West Side  "
      ]
     },
     "execution_count": 20,
     "metadata": {},
     "output_type": "execute_result"
    }
   ],
   "source": [
    "chicago.head()"
   ]
  },
  {
   "cell_type": "code",
   "execution_count": 21,
   "metadata": {
    "ExecuteTime": {
     "end_time": "2024-04-01T21:25:36.374712Z",
     "start_time": "2024-04-01T21:25:35.016491Z"
    }
   },
   "outputs": [],
   "source": [
    "chicago['Date of Incident'] = chicago['Date'].dt.date"
   ]
  },
  {
   "cell_type": "code",
   "execution_count": 22,
   "metadata": {
    "ExecuteTime": {
     "end_time": "2024-04-01T21:25:37.649845Z",
     "start_time": "2024-04-01T21:25:36.385318Z"
    }
   },
   "outputs": [],
   "source": [
    "#converting date to day name\n",
    "chicago['Day of Incident'] = chicago['Date'].dt.day_name()"
   ]
  },
  {
   "cell_type": "code",
   "execution_count": 23,
   "metadata": {
    "ExecuteTime": {
     "end_time": "2024-04-01T21:26:14.248020Z",
     "start_time": "2024-04-01T21:25:37.653032Z"
    }
   },
   "outputs": [],
   "source": [
    "#converting date to month\n",
    "chicago['Month of Incident'] = chicago['Date'].dt.strftime('%B')"
   ]
  },
  {
   "cell_type": "code",
   "execution_count": 24,
   "metadata": {
    "ExecuteTime": {
     "end_time": "2024-04-01T21:26:14.306086Z",
     "start_time": "2024-04-01T21:26:14.251216Z"
    }
   },
   "outputs": [
    {
     "data": {
      "text/html": [
       "<div>\n",
       "<style scoped>\n",
       "    .dataframe tbody tr th:only-of-type {\n",
       "        vertical-align: middle;\n",
       "    }\n",
       "\n",
       "    .dataframe tbody tr th {\n",
       "        vertical-align: top;\n",
       "    }\n",
       "\n",
       "    .dataframe thead th {\n",
       "        text-align: right;\n",
       "    }\n",
       "</style>\n",
       "<table border=\"1\" class=\"dataframe\">\n",
       "  <thead>\n",
       "    <tr style=\"text-align: right;\">\n",
       "      <th></th>\n",
       "      <th>ID</th>\n",
       "      <th>Date</th>\n",
       "      <th>Block</th>\n",
       "      <th>Primary Type</th>\n",
       "      <th>Description</th>\n",
       "      <th>Location Description</th>\n",
       "      <th>Arrest</th>\n",
       "      <th>Domestic</th>\n",
       "      <th>Beat</th>\n",
       "      <th>District</th>\n",
       "      <th>Ward</th>\n",
       "      <th>Community Area</th>\n",
       "      <th>Year</th>\n",
       "      <th>Updated On</th>\n",
       "      <th>Latitude</th>\n",
       "      <th>Longitude</th>\n",
       "      <th>Community Name</th>\n",
       "      <th>Date of Incident</th>\n",
       "      <th>Day of Incident</th>\n",
       "      <th>Month of Incident</th>\n",
       "    </tr>\n",
       "  </thead>\n",
       "  <tbody>\n",
       "    <tr>\n",
       "      <th>0</th>\n",
       "      <td>6407111</td>\n",
       "      <td>2008-07-26 14:30:00</td>\n",
       "      <td>085XX S MUSKEGON AVE</td>\n",
       "      <td>CRIMINAL DAMAGE</td>\n",
       "      <td>TO VEHICLE</td>\n",
       "      <td>STREET</td>\n",
       "      <td>False</td>\n",
       "      <td>False</td>\n",
       "      <td>423</td>\n",
       "      <td>4.0</td>\n",
       "      <td>10.0</td>\n",
       "      <td>46.0</td>\n",
       "      <td>2008</td>\n",
       "      <td>2018-02-28 15:56:25</td>\n",
       "      <td>41.739980</td>\n",
       "      <td>-87.555120</td>\n",
       "      <td>South Chicago</td>\n",
       "      <td>2008-07-26</td>\n",
       "      <td>Saturday</td>\n",
       "      <td>July</td>\n",
       "    </tr>\n",
       "    <tr>\n",
       "      <th>1</th>\n",
       "      <td>11398199</td>\n",
       "      <td>2018-07-31 10:57:00</td>\n",
       "      <td>092XX S ELLIS AVE</td>\n",
       "      <td>WEAPONS VIOLATION</td>\n",
       "      <td>UNLAWFUL POSS AMMUNITION</td>\n",
       "      <td>POOL ROOM</td>\n",
       "      <td>True</td>\n",
       "      <td>False</td>\n",
       "      <td>413</td>\n",
       "      <td>4.0</td>\n",
       "      <td>8.0</td>\n",
       "      <td>47.0</td>\n",
       "      <td>2018</td>\n",
       "      <td>2018-08-07 16:02:59</td>\n",
       "      <td>41.726922</td>\n",
       "      <td>-87.599747</td>\n",
       "      <td>Burnside</td>\n",
       "      <td>2018-07-31</td>\n",
       "      <td>Tuesday</td>\n",
       "      <td>July</td>\n",
       "    </tr>\n",
       "    <tr>\n",
       "      <th>2</th>\n",
       "      <td>5488785</td>\n",
       "      <td>2007-04-27 10:30:00</td>\n",
       "      <td>062XX N TRIPP AVE</td>\n",
       "      <td>BURGLARY</td>\n",
       "      <td>FORCIBLE ENTRY</td>\n",
       "      <td>RESIDENCE</td>\n",
       "      <td>True</td>\n",
       "      <td>False</td>\n",
       "      <td>1711</td>\n",
       "      <td>17.0</td>\n",
       "      <td>39.0</td>\n",
       "      <td>12.0</td>\n",
       "      <td>2007</td>\n",
       "      <td>2018-02-28 15:56:25</td>\n",
       "      <td>41.994138</td>\n",
       "      <td>-87.734959</td>\n",
       "      <td>Forest Glen</td>\n",
       "      <td>2007-04-27</td>\n",
       "      <td>Friday</td>\n",
       "      <td>April</td>\n",
       "    </tr>\n",
       "    <tr>\n",
       "      <th>3</th>\n",
       "      <td>11389116</td>\n",
       "      <td>2018-07-23 08:55:00</td>\n",
       "      <td>0000X N KEELER AVE</td>\n",
       "      <td>ASSAULT</td>\n",
       "      <td>SIMPLE</td>\n",
       "      <td>NURSING HOME/RETIREMENT HOME</td>\n",
       "      <td>False</td>\n",
       "      <td>False</td>\n",
       "      <td>1115</td>\n",
       "      <td>11.0</td>\n",
       "      <td>28.0</td>\n",
       "      <td>26.0</td>\n",
       "      <td>2018</td>\n",
       "      <td>2018-07-30 15:52:24</td>\n",
       "      <td>41.881217</td>\n",
       "      <td>-87.730590</td>\n",
       "      <td>West Garfield Park</td>\n",
       "      <td>2018-07-23</td>\n",
       "      <td>Monday</td>\n",
       "      <td>July</td>\n",
       "    </tr>\n",
       "    <tr>\n",
       "      <th>4</th>\n",
       "      <td>12420431</td>\n",
       "      <td>2021-07-11 06:40:00</td>\n",
       "      <td>016XX W HARRISON ST</td>\n",
       "      <td>ASSAULT</td>\n",
       "      <td>AGGRAVATED - HANDGUN</td>\n",
       "      <td>PARKING LOT / GARAGE (NON RESIDENTIAL)</td>\n",
       "      <td>False</td>\n",
       "      <td>False</td>\n",
       "      <td>1231</td>\n",
       "      <td>12.0</td>\n",
       "      <td>27.0</td>\n",
       "      <td>28.0</td>\n",
       "      <td>2021</td>\n",
       "      <td>2021-07-18 16:56:02</td>\n",
       "      <td>41.874174</td>\n",
       "      <td>-87.668082</td>\n",
       "      <td>Near West Side</td>\n",
       "      <td>2021-07-11</td>\n",
       "      <td>Sunday</td>\n",
       "      <td>July</td>\n",
       "    </tr>\n",
       "  </tbody>\n",
       "</table>\n",
       "</div>"
      ],
      "text/plain": [
       "         ID                Date                 Block       Primary Type  \\\n",
       "0   6407111 2008-07-26 14:30:00  085XX S MUSKEGON AVE    CRIMINAL DAMAGE   \n",
       "1  11398199 2018-07-31 10:57:00     092XX S ELLIS AVE  WEAPONS VIOLATION   \n",
       "2   5488785 2007-04-27 10:30:00     062XX N TRIPP AVE           BURGLARY   \n",
       "3  11389116 2018-07-23 08:55:00    0000X N KEELER AVE            ASSAULT   \n",
       "4  12420431 2021-07-11 06:40:00   016XX W HARRISON ST            ASSAULT   \n",
       "\n",
       "                Description                    Location Description  Arrest  \\\n",
       "0                TO VEHICLE                                  STREET   False   \n",
       "1  UNLAWFUL POSS AMMUNITION                               POOL ROOM    True   \n",
       "2            FORCIBLE ENTRY                               RESIDENCE    True   \n",
       "3                    SIMPLE            NURSING HOME/RETIREMENT HOME   False   \n",
       "4      AGGRAVATED - HANDGUN  PARKING LOT / GARAGE (NON RESIDENTIAL)   False   \n",
       "\n",
       "   Domestic  Beat  District  Ward  Community Area  Year          Updated On  \\\n",
       "0     False   423       4.0  10.0            46.0  2008 2018-02-28 15:56:25   \n",
       "1     False   413       4.0   8.0            47.0  2018 2018-08-07 16:02:59   \n",
       "2     False  1711      17.0  39.0            12.0  2007 2018-02-28 15:56:25   \n",
       "3     False  1115      11.0  28.0            26.0  2018 2018-07-30 15:52:24   \n",
       "4     False  1231      12.0  27.0            28.0  2021 2021-07-18 16:56:02   \n",
       "\n",
       "    Latitude  Longitude      Community Name Date of Incident Day of Incident  \\\n",
       "0  41.739980 -87.555120       South Chicago       2008-07-26        Saturday   \n",
       "1  41.726922 -87.599747            Burnside       2018-07-31         Tuesday   \n",
       "2  41.994138 -87.734959         Forest Glen       2007-04-27          Friday   \n",
       "3  41.881217 -87.730590  West Garfield Park       2018-07-23          Monday   \n",
       "4  41.874174 -87.668082      Near West Side       2021-07-11          Sunday   \n",
       "\n",
       "  Month of Incident  \n",
       "0              July  \n",
       "1              July  \n",
       "2             April  \n",
       "3              July  \n",
       "4              July  "
      ]
     },
     "execution_count": 24,
     "metadata": {},
     "output_type": "execute_result"
    }
   ],
   "source": [
    "chicago.head()"
   ]
  },
  {
   "cell_type": "code",
   "execution_count": 25,
   "metadata": {
    "ExecuteTime": {
     "end_time": "2024-04-01T21:26:14.338474Z",
     "start_time": "2024-04-01T21:26:14.311321Z"
    }
   },
   "outputs": [],
   "source": [
    "# Creating a dictionary for seasons\n",
    "season = {\n",
    "    'January': 'Winter',\n",
    "    'February':\t'Winter',\n",
    "    'March': 'Spring',\n",
    "    'April': 'Spring',\n",
    "    'May':'Spring',\n",
    "    'June':\t'Summer',\n",
    "    'July':\t'Summer',\n",
    "    'August': 'Summer',\n",
    "    'September': 'Autumn',\n",
    "    'October' :'Autumn',\n",
    "    'November':\t'Autumn',\n",
    "    'December': 'Winter'\n",
    "}"
   ]
  },
  {
   "cell_type": "code",
   "execution_count": 26,
   "metadata": {
    "ExecuteTime": {
     "end_time": "2024-04-01T21:26:14.969039Z",
     "start_time": "2024-04-01T21:26:14.343381Z"
    }
   },
   "outputs": [],
   "source": [
    "chicago['Season'] = chicago['Month of Incident'].map(season)"
   ]
  },
  {
   "cell_type": "code",
   "execution_count": 27,
   "metadata": {
    "ExecuteTime": {
     "end_time": "2024-04-01T21:26:15.031583Z",
     "start_time": "2024-04-01T21:26:14.972374Z"
    }
   },
   "outputs": [
    {
     "data": {
      "text/html": [
       "<div>\n",
       "<style scoped>\n",
       "    .dataframe tbody tr th:only-of-type {\n",
       "        vertical-align: middle;\n",
       "    }\n",
       "\n",
       "    .dataframe tbody tr th {\n",
       "        vertical-align: top;\n",
       "    }\n",
       "\n",
       "    .dataframe thead th {\n",
       "        text-align: right;\n",
       "    }\n",
       "</style>\n",
       "<table border=\"1\" class=\"dataframe\">\n",
       "  <thead>\n",
       "    <tr style=\"text-align: right;\">\n",
       "      <th></th>\n",
       "      <th>ID</th>\n",
       "      <th>Date</th>\n",
       "      <th>Block</th>\n",
       "      <th>Primary Type</th>\n",
       "      <th>Description</th>\n",
       "      <th>Location Description</th>\n",
       "      <th>Arrest</th>\n",
       "      <th>Domestic</th>\n",
       "      <th>Beat</th>\n",
       "      <th>District</th>\n",
       "      <th>...</th>\n",
       "      <th>Community Area</th>\n",
       "      <th>Year</th>\n",
       "      <th>Updated On</th>\n",
       "      <th>Latitude</th>\n",
       "      <th>Longitude</th>\n",
       "      <th>Community Name</th>\n",
       "      <th>Date of Incident</th>\n",
       "      <th>Day of Incident</th>\n",
       "      <th>Month of Incident</th>\n",
       "      <th>Season</th>\n",
       "    </tr>\n",
       "  </thead>\n",
       "  <tbody>\n",
       "    <tr>\n",
       "      <th>0</th>\n",
       "      <td>6407111</td>\n",
       "      <td>2008-07-26 14:30:00</td>\n",
       "      <td>085XX S MUSKEGON AVE</td>\n",
       "      <td>CRIMINAL DAMAGE</td>\n",
       "      <td>TO VEHICLE</td>\n",
       "      <td>STREET</td>\n",
       "      <td>False</td>\n",
       "      <td>False</td>\n",
       "      <td>423</td>\n",
       "      <td>4.0</td>\n",
       "      <td>...</td>\n",
       "      <td>46.0</td>\n",
       "      <td>2008</td>\n",
       "      <td>2018-02-28 15:56:25</td>\n",
       "      <td>41.739980</td>\n",
       "      <td>-87.555120</td>\n",
       "      <td>South Chicago</td>\n",
       "      <td>2008-07-26</td>\n",
       "      <td>Saturday</td>\n",
       "      <td>July</td>\n",
       "      <td>Summer</td>\n",
       "    </tr>\n",
       "    <tr>\n",
       "      <th>1</th>\n",
       "      <td>11398199</td>\n",
       "      <td>2018-07-31 10:57:00</td>\n",
       "      <td>092XX S ELLIS AVE</td>\n",
       "      <td>WEAPONS VIOLATION</td>\n",
       "      <td>UNLAWFUL POSS AMMUNITION</td>\n",
       "      <td>POOL ROOM</td>\n",
       "      <td>True</td>\n",
       "      <td>False</td>\n",
       "      <td>413</td>\n",
       "      <td>4.0</td>\n",
       "      <td>...</td>\n",
       "      <td>47.0</td>\n",
       "      <td>2018</td>\n",
       "      <td>2018-08-07 16:02:59</td>\n",
       "      <td>41.726922</td>\n",
       "      <td>-87.599747</td>\n",
       "      <td>Burnside</td>\n",
       "      <td>2018-07-31</td>\n",
       "      <td>Tuesday</td>\n",
       "      <td>July</td>\n",
       "      <td>Summer</td>\n",
       "    </tr>\n",
       "    <tr>\n",
       "      <th>2</th>\n",
       "      <td>5488785</td>\n",
       "      <td>2007-04-27 10:30:00</td>\n",
       "      <td>062XX N TRIPP AVE</td>\n",
       "      <td>BURGLARY</td>\n",
       "      <td>FORCIBLE ENTRY</td>\n",
       "      <td>RESIDENCE</td>\n",
       "      <td>True</td>\n",
       "      <td>False</td>\n",
       "      <td>1711</td>\n",
       "      <td>17.0</td>\n",
       "      <td>...</td>\n",
       "      <td>12.0</td>\n",
       "      <td>2007</td>\n",
       "      <td>2018-02-28 15:56:25</td>\n",
       "      <td>41.994138</td>\n",
       "      <td>-87.734959</td>\n",
       "      <td>Forest Glen</td>\n",
       "      <td>2007-04-27</td>\n",
       "      <td>Friday</td>\n",
       "      <td>April</td>\n",
       "      <td>Spring</td>\n",
       "    </tr>\n",
       "    <tr>\n",
       "      <th>3</th>\n",
       "      <td>11389116</td>\n",
       "      <td>2018-07-23 08:55:00</td>\n",
       "      <td>0000X N KEELER AVE</td>\n",
       "      <td>ASSAULT</td>\n",
       "      <td>SIMPLE</td>\n",
       "      <td>NURSING HOME/RETIREMENT HOME</td>\n",
       "      <td>False</td>\n",
       "      <td>False</td>\n",
       "      <td>1115</td>\n",
       "      <td>11.0</td>\n",
       "      <td>...</td>\n",
       "      <td>26.0</td>\n",
       "      <td>2018</td>\n",
       "      <td>2018-07-30 15:52:24</td>\n",
       "      <td>41.881217</td>\n",
       "      <td>-87.730590</td>\n",
       "      <td>West Garfield Park</td>\n",
       "      <td>2018-07-23</td>\n",
       "      <td>Monday</td>\n",
       "      <td>July</td>\n",
       "      <td>Summer</td>\n",
       "    </tr>\n",
       "    <tr>\n",
       "      <th>4</th>\n",
       "      <td>12420431</td>\n",
       "      <td>2021-07-11 06:40:00</td>\n",
       "      <td>016XX W HARRISON ST</td>\n",
       "      <td>ASSAULT</td>\n",
       "      <td>AGGRAVATED - HANDGUN</td>\n",
       "      <td>PARKING LOT / GARAGE (NON RESIDENTIAL)</td>\n",
       "      <td>False</td>\n",
       "      <td>False</td>\n",
       "      <td>1231</td>\n",
       "      <td>12.0</td>\n",
       "      <td>...</td>\n",
       "      <td>28.0</td>\n",
       "      <td>2021</td>\n",
       "      <td>2021-07-18 16:56:02</td>\n",
       "      <td>41.874174</td>\n",
       "      <td>-87.668082</td>\n",
       "      <td>Near West Side</td>\n",
       "      <td>2021-07-11</td>\n",
       "      <td>Sunday</td>\n",
       "      <td>July</td>\n",
       "      <td>Summer</td>\n",
       "    </tr>\n",
       "  </tbody>\n",
       "</table>\n",
       "<p>5 rows × 21 columns</p>\n",
       "</div>"
      ],
      "text/plain": [
       "         ID                Date                 Block       Primary Type  \\\n",
       "0   6407111 2008-07-26 14:30:00  085XX S MUSKEGON AVE    CRIMINAL DAMAGE   \n",
       "1  11398199 2018-07-31 10:57:00     092XX S ELLIS AVE  WEAPONS VIOLATION   \n",
       "2   5488785 2007-04-27 10:30:00     062XX N TRIPP AVE           BURGLARY   \n",
       "3  11389116 2018-07-23 08:55:00    0000X N KEELER AVE            ASSAULT   \n",
       "4  12420431 2021-07-11 06:40:00   016XX W HARRISON ST            ASSAULT   \n",
       "\n",
       "                Description                    Location Description  Arrest  \\\n",
       "0                TO VEHICLE                                  STREET   False   \n",
       "1  UNLAWFUL POSS AMMUNITION                               POOL ROOM    True   \n",
       "2            FORCIBLE ENTRY                               RESIDENCE    True   \n",
       "3                    SIMPLE            NURSING HOME/RETIREMENT HOME   False   \n",
       "4      AGGRAVATED - HANDGUN  PARKING LOT / GARAGE (NON RESIDENTIAL)   False   \n",
       "\n",
       "   Domestic  Beat  District  ...  Community Area  Year          Updated On  \\\n",
       "0     False   423       4.0  ...            46.0  2008 2018-02-28 15:56:25   \n",
       "1     False   413       4.0  ...            47.0  2018 2018-08-07 16:02:59   \n",
       "2     False  1711      17.0  ...            12.0  2007 2018-02-28 15:56:25   \n",
       "3     False  1115      11.0  ...            26.0  2018 2018-07-30 15:52:24   \n",
       "4     False  1231      12.0  ...            28.0  2021 2021-07-18 16:56:02   \n",
       "\n",
       "    Latitude  Longitude      Community Name Date of Incident Day of Incident  \\\n",
       "0  41.739980 -87.555120       South Chicago       2008-07-26        Saturday   \n",
       "1  41.726922 -87.599747            Burnside       2018-07-31         Tuesday   \n",
       "2  41.994138 -87.734959         Forest Glen       2007-04-27          Friday   \n",
       "3  41.881217 -87.730590  West Garfield Park       2018-07-23          Monday   \n",
       "4  41.874174 -87.668082      Near West Side       2021-07-11          Sunday   \n",
       "\n",
       "  Month of Incident  Season  \n",
       "0              July  Summer  \n",
       "1              July  Summer  \n",
       "2             April  Spring  \n",
       "3              July  Summer  \n",
       "4              July  Summer  \n",
       "\n",
       "[5 rows x 21 columns]"
      ]
     },
     "execution_count": 27,
     "metadata": {},
     "output_type": "execute_result"
    }
   ],
   "source": [
    "chicago.head()"
   ]
  },
  {
   "cell_type": "markdown",
   "metadata": {},
   "source": [
    "## Heat map of top crime loations in chicago"
   ]
  },
  {
   "cell_type": "code",
   "execution_count": 28,
   "metadata": {
    "ExecuteTime": {
     "end_time": "2024-04-01T21:26:17.132574Z",
     "start_time": "2024-04-01T21:26:15.036537Z"
    }
   },
   "outputs": [],
   "source": [
    "location_df = chicago.groupby(['Longitude', 'Latitude']).size().reset_index(name='Frequency')\n"
   ]
  },
  {
   "cell_type": "code",
   "execution_count": 29,
   "metadata": {
    "ExecuteTime": {
     "end_time": "2024-04-01T21:26:17.196880Z",
     "start_time": "2024-04-01T21:26:17.137065Z"
    }
   },
   "outputs": [
    {
     "data": {
      "text/html": [
       "<div>\n",
       "<style scoped>\n",
       "    .dataframe tbody tr th:only-of-type {\n",
       "        vertical-align: middle;\n",
       "    }\n",
       "\n",
       "    .dataframe tbody tr th {\n",
       "        vertical-align: top;\n",
       "    }\n",
       "\n",
       "    .dataframe thead th {\n",
       "        text-align: right;\n",
       "    }\n",
       "</style>\n",
       "<table border=\"1\" class=\"dataframe\">\n",
       "  <thead>\n",
       "    <tr style=\"text-align: right;\">\n",
       "      <th></th>\n",
       "      <th>Longitude</th>\n",
       "      <th>Latitude</th>\n",
       "      <th>Frequency</th>\n",
       "    </tr>\n",
       "  </thead>\n",
       "  <tbody>\n",
       "    <tr>\n",
       "      <th>0</th>\n",
       "      <td>-91.686566</td>\n",
       "      <td>36.619446</td>\n",
       "      <td>28</td>\n",
       "    </tr>\n",
       "    <tr>\n",
       "      <th>1</th>\n",
       "      <td>-87.939733</td>\n",
       "      <td>41.996235</td>\n",
       "      <td>1</td>\n",
       "    </tr>\n",
       "    <tr>\n",
       "      <th>2</th>\n",
       "      <td>-87.934567</td>\n",
       "      <td>41.995759</td>\n",
       "      <td>1</td>\n",
       "    </tr>\n",
       "    <tr>\n",
       "      <th>3</th>\n",
       "      <td>-87.934324</td>\n",
       "      <td>41.996958</td>\n",
       "      <td>1</td>\n",
       "    </tr>\n",
       "    <tr>\n",
       "      <th>4</th>\n",
       "      <td>-87.934273</td>\n",
       "      <td>42.008162</td>\n",
       "      <td>2</td>\n",
       "    </tr>\n",
       "    <tr>\n",
       "      <th>...</th>\n",
       "      <td>...</td>\n",
       "      <td>...</td>\n",
       "      <td>...</td>\n",
       "    </tr>\n",
       "    <tr>\n",
       "      <th>540549</th>\n",
       "      <td>-87.524532</td>\n",
       "      <td>41.701771</td>\n",
       "      <td>3</td>\n",
       "    </tr>\n",
       "    <tr>\n",
       "      <th>540550</th>\n",
       "      <td>-87.524530</td>\n",
       "      <td>41.701864</td>\n",
       "      <td>1</td>\n",
       "    </tr>\n",
       "    <tr>\n",
       "      <th>540551</th>\n",
       "      <td>-87.524530</td>\n",
       "      <td>41.701902</td>\n",
       "      <td>1</td>\n",
       "    </tr>\n",
       "    <tr>\n",
       "      <th>540552</th>\n",
       "      <td>-87.524529</td>\n",
       "      <td>41.701938</td>\n",
       "      <td>2</td>\n",
       "    </tr>\n",
       "    <tr>\n",
       "      <th>540553</th>\n",
       "      <td>-87.524529</td>\n",
       "      <td>41.702237</td>\n",
       "      <td>5</td>\n",
       "    </tr>\n",
       "  </tbody>\n",
       "</table>\n",
       "<p>540554 rows × 3 columns</p>\n",
       "</div>"
      ],
      "text/plain": [
       "        Longitude   Latitude  Frequency\n",
       "0      -91.686566  36.619446         28\n",
       "1      -87.939733  41.996235          1\n",
       "2      -87.934567  41.995759          1\n",
       "3      -87.934324  41.996958          1\n",
       "4      -87.934273  42.008162          2\n",
       "...           ...        ...        ...\n",
       "540549 -87.524532  41.701771          3\n",
       "540550 -87.524530  41.701864          1\n",
       "540551 -87.524530  41.701902          1\n",
       "540552 -87.524529  41.701938          2\n",
       "540553 -87.524529  41.702237          5\n",
       "\n",
       "[540554 rows x 3 columns]"
      ]
     },
     "execution_count": 29,
     "metadata": {},
     "output_type": "execute_result"
    }
   ],
   "source": [
    "location_df"
   ]
  },
  {
   "cell_type": "code",
   "execution_count": 30,
   "metadata": {
    "ExecuteTime": {
     "end_time": "2024-04-01T21:26:17.333773Z",
     "start_time": "2024-04-01T21:26:17.202384Z"
    }
   },
   "outputs": [
    {
     "data": {
      "text/html": [
       "<div>\n",
       "<style scoped>\n",
       "    .dataframe tbody tr th:only-of-type {\n",
       "        vertical-align: middle;\n",
       "    }\n",
       "\n",
       "    .dataframe tbody tr th {\n",
       "        vertical-align: top;\n",
       "    }\n",
       "\n",
       "    .dataframe thead th {\n",
       "        text-align: right;\n",
       "    }\n",
       "</style>\n",
       "<table border=\"1\" class=\"dataframe\">\n",
       "  <thead>\n",
       "    <tr style=\"text-align: right;\">\n",
       "      <th></th>\n",
       "      <th>Longitude</th>\n",
       "      <th>Latitude</th>\n",
       "      <th>Frequency</th>\n",
       "    </tr>\n",
       "  </thead>\n",
       "  <tbody>\n",
       "    <tr>\n",
       "      <th>121</th>\n",
       "      <td>-87.905227</td>\n",
       "      <td>41.976290</td>\n",
       "      <td>4227</td>\n",
       "    </tr>\n",
       "    <tr>\n",
       "      <th>84454</th>\n",
       "      <td>-87.741529</td>\n",
       "      <td>41.754593</td>\n",
       "      <td>3045</td>\n",
       "    </tr>\n",
       "    <tr>\n",
       "      <th>431940</th>\n",
       "      <td>-87.627877</td>\n",
       "      <td>41.883500</td>\n",
       "      <td>2415</td>\n",
       "    </tr>\n",
       "    <tr>\n",
       "      <th>443168</th>\n",
       "      <td>-87.624097</td>\n",
       "      <td>41.897895</td>\n",
       "      <td>1453</td>\n",
       "    </tr>\n",
       "    <tr>\n",
       "      <th>83189</th>\n",
       "      <td>-87.742729</td>\n",
       "      <td>41.909664</td>\n",
       "      <td>1049</td>\n",
       "    </tr>\n",
       "    <tr>\n",
       "      <th>430879</th>\n",
       "      <td>-87.628203</td>\n",
       "      <td>41.896889</td>\n",
       "      <td>1018</td>\n",
       "    </tr>\n",
       "    <tr>\n",
       "      <th>84503</th>\n",
       "      <td>-87.741480</td>\n",
       "      <td>41.788987</td>\n",
       "      <td>901</td>\n",
       "    </tr>\n",
       "    <tr>\n",
       "      <th>168776</th>\n",
       "      <td>-87.709271</td>\n",
       "      <td>41.868181</td>\n",
       "      <td>873</td>\n",
       "    </tr>\n",
       "    <tr>\n",
       "      <th>115656</th>\n",
       "      <td>-87.726422</td>\n",
       "      <td>41.885488</td>\n",
       "      <td>854</td>\n",
       "    </tr>\n",
       "    <tr>\n",
       "      <th>432031</th>\n",
       "      <td>-87.627842</td>\n",
       "      <td>41.882334</td>\n",
       "      <td>790</td>\n",
       "    </tr>\n",
       "    <tr>\n",
       "      <th>375432</th>\n",
       "      <td>-87.647001</td>\n",
       "      <td>41.904192</td>\n",
       "      <td>788</td>\n",
       "    </tr>\n",
       "    <tr>\n",
       "      <th>431355</th>\n",
       "      <td>-87.628069</td>\n",
       "      <td>41.736260</td>\n",
       "      <td>771</td>\n",
       "    </tr>\n",
       "    <tr>\n",
       "      <th>441683</th>\n",
       "      <td>-87.624485</td>\n",
       "      <td>41.721627</td>\n",
       "      <td>768</td>\n",
       "    </tr>\n",
       "    <tr>\n",
       "      <th>96</th>\n",
       "      <td>-87.906463</td>\n",
       "      <td>41.979006</td>\n",
       "      <td>765</td>\n",
       "    </tr>\n",
       "    <tr>\n",
       "      <th>473742</th>\n",
       "      <td>-87.611462</td>\n",
       "      <td>41.891990</td>\n",
       "      <td>758</td>\n",
       "    </tr>\n",
       "    <tr>\n",
       "      <th>400801</th>\n",
       "      <td>-87.639235</td>\n",
       "      <td>41.868542</td>\n",
       "      <td>747</td>\n",
       "    </tr>\n",
       "    <tr>\n",
       "      <th>270647</th>\n",
       "      <td>-87.675049</td>\n",
       "      <td>42.019399</td>\n",
       "      <td>703</td>\n",
       "    </tr>\n",
       "    <tr>\n",
       "      <th>405613</th>\n",
       "      <td>-87.637461</td>\n",
       "      <td>41.689957</td>\n",
       "      <td>694</td>\n",
       "    </tr>\n",
       "    <tr>\n",
       "      <th>443007</th>\n",
       "      <td>-87.624131</td>\n",
       "      <td>41.899410</td>\n",
       "      <td>691</td>\n",
       "    </tr>\n",
       "    <tr>\n",
       "      <th>515663</th>\n",
       "      <td>-87.572998</td>\n",
       "      <td>41.737094</td>\n",
       "      <td>689</td>\n",
       "    </tr>\n",
       "  </tbody>\n",
       "</table>\n",
       "</div>"
      ],
      "text/plain": [
       "        Longitude   Latitude  Frequency\n",
       "121    -87.905227  41.976290       4227\n",
       "84454  -87.741529  41.754593       3045\n",
       "431940 -87.627877  41.883500       2415\n",
       "443168 -87.624097  41.897895       1453\n",
       "83189  -87.742729  41.909664       1049\n",
       "430879 -87.628203  41.896889       1018\n",
       "84503  -87.741480  41.788987        901\n",
       "168776 -87.709271  41.868181        873\n",
       "115656 -87.726422  41.885488        854\n",
       "432031 -87.627842  41.882334        790\n",
       "375432 -87.647001  41.904192        788\n",
       "431355 -87.628069  41.736260        771\n",
       "441683 -87.624485  41.721627        768\n",
       "96     -87.906463  41.979006        765\n",
       "473742 -87.611462  41.891990        758\n",
       "400801 -87.639235  41.868542        747\n",
       "270647 -87.675049  42.019399        703\n",
       "405613 -87.637461  41.689957        694\n",
       "443007 -87.624131  41.899410        691\n",
       "515663 -87.572998  41.737094        689"
      ]
     },
     "execution_count": 30,
     "metadata": {},
     "output_type": "execute_result"
    }
   ],
   "source": [
    "location_top = location_df.sort_values(by='Frequency', ascending=False).head(20)\n",
    "location_top"
   ]
  },
  {
   "cell_type": "code",
   "execution_count": 31,
   "metadata": {
    "ExecuteTime": {
     "end_time": "2024-04-01T21:26:19.029789Z",
     "start_time": "2024-04-01T21:26:17.334585Z"
    }
   },
   "outputs": [],
   "source": [
    "import folium\n",
    "from folium.plugins import HeatMap"
   ]
  },
  {
   "cell_type": "code",
   "execution_count": 32,
   "metadata": {
    "ExecuteTime": {
     "end_time": "2024-04-01T21:26:19.088647Z",
     "start_time": "2024-04-01T21:26:19.036452Z"
    }
   },
   "outputs": [
    {
     "data": {
      "text/html": [
       "<div style=\"width:100%;\"><div style=\"position:relative;width:100%;height:0;padding-bottom:60%;\"><span style=\"color:#565656\">Make this Notebook Trusted to load map: File -> Trust Notebook</span><iframe srcdoc=\"&lt;!DOCTYPE html&gt;\n",
       "&lt;html&gt;\n",
       "&lt;head&gt;\n",
       "    \n",
       "    &lt;meta http-equiv=&quot;content-type&quot; content=&quot;text/html; charset=UTF-8&quot; /&gt;\n",
       "    \n",
       "        &lt;script&gt;\n",
       "            L_NO_TOUCH = false;\n",
       "            L_DISABLE_3D = false;\n",
       "        &lt;/script&gt;\n",
       "    \n",
       "    &lt;style&gt;html, body {width: 100%;height: 100%;margin: 0;padding: 0;}&lt;/style&gt;\n",
       "    &lt;style&gt;#map {position:absolute;top:0;bottom:0;right:0;left:0;}&lt;/style&gt;\n",
       "    &lt;script src=&quot;https://cdn.jsdelivr.net/npm/leaflet@1.9.3/dist/leaflet.js&quot;&gt;&lt;/script&gt;\n",
       "    &lt;script src=&quot;https://code.jquery.com/jquery-3.7.1.min.js&quot;&gt;&lt;/script&gt;\n",
       "    &lt;script src=&quot;https://cdn.jsdelivr.net/npm/bootstrap@5.2.2/dist/js/bootstrap.bundle.min.js&quot;&gt;&lt;/script&gt;\n",
       "    &lt;script src=&quot;https://cdnjs.cloudflare.com/ajax/libs/Leaflet.awesome-markers/2.0.2/leaflet.awesome-markers.js&quot;&gt;&lt;/script&gt;\n",
       "    &lt;link rel=&quot;stylesheet&quot; href=&quot;https://cdn.jsdelivr.net/npm/leaflet@1.9.3/dist/leaflet.css&quot;/&gt;\n",
       "    &lt;link rel=&quot;stylesheet&quot; href=&quot;https://cdn.jsdelivr.net/npm/bootstrap@5.2.2/dist/css/bootstrap.min.css&quot;/&gt;\n",
       "    &lt;link rel=&quot;stylesheet&quot; href=&quot;https://netdna.bootstrapcdn.com/bootstrap/3.0.0/css/bootstrap.min.css&quot;/&gt;\n",
       "    &lt;link rel=&quot;stylesheet&quot; href=&quot;https://cdn.jsdelivr.net/npm/@fortawesome/fontawesome-free@6.2.0/css/all.min.css&quot;/&gt;\n",
       "    &lt;link rel=&quot;stylesheet&quot; href=&quot;https://cdnjs.cloudflare.com/ajax/libs/Leaflet.awesome-markers/2.0.2/leaflet.awesome-markers.css&quot;/&gt;\n",
       "    &lt;link rel=&quot;stylesheet&quot; href=&quot;https://cdn.jsdelivr.net/gh/python-visualization/folium/folium/templates/leaflet.awesome.rotate.min.css&quot;/&gt;\n",
       "    \n",
       "            &lt;meta name=&quot;viewport&quot; content=&quot;width=device-width,\n",
       "                initial-scale=1.0, maximum-scale=1.0, user-scalable=no&quot; /&gt;\n",
       "            &lt;style&gt;\n",
       "                #map_79180445ef47506db4b0e0fe28a160c3 {\n",
       "                    position: relative;\n",
       "                    width: 100.0%;\n",
       "                    height: 100.0%;\n",
       "                    left: 0.0%;\n",
       "                    top: 0.0%;\n",
       "                }\n",
       "                .leaflet-container { font-size: 1rem; }\n",
       "            &lt;/style&gt;\n",
       "        \n",
       "    &lt;script src=&quot;https://cdn.jsdelivr.net/gh/python-visualization/folium@main/folium/templates/leaflet_heat.min.js&quot;&gt;&lt;/script&gt;\n",
       "&lt;/head&gt;\n",
       "&lt;body&gt;\n",
       "    \n",
       "    \n",
       "            &lt;div class=&quot;folium-map&quot; id=&quot;map_79180445ef47506db4b0e0fe28a160c3&quot; &gt;&lt;/div&gt;\n",
       "        \n",
       "&lt;/body&gt;\n",
       "&lt;script&gt;\n",
       "    \n",
       "    \n",
       "            var map_79180445ef47506db4b0e0fe28a160c3 = L.map(\n",
       "                &quot;map_79180445ef47506db4b0e0fe28a160c3&quot;,\n",
       "                {\n",
       "                    center: [41.859564998500005, -87.68205152984999],\n",
       "                    crs: L.CRS.EPSG3857,\n",
       "                    zoom: 10,\n",
       "                    zoomControl: true,\n",
       "                    preferCanvas: false,\n",
       "                }\n",
       "            );\n",
       "\n",
       "            \n",
       "\n",
       "        \n",
       "    \n",
       "            var tile_layer_34756219d7f9e6095072aaf5c9d1a370 = L.tileLayer(\n",
       "                &quot;https://tile.openstreetmap.org/{z}/{x}/{y}.png&quot;,\n",
       "                {&quot;attribution&quot;: &quot;\\u0026copy; \\u003ca href=\\&quot;https://www.openstreetmap.org/copyright\\&quot;\\u003eOpenStreetMap\\u003c/a\\u003e contributors&quot;, &quot;detectRetina&quot;: false, &quot;maxNativeZoom&quot;: 19, &quot;maxZoom&quot;: 19, &quot;minZoom&quot;: 0, &quot;noWrap&quot;: false, &quot;opacity&quot;: 1, &quot;subdomains&quot;: &quot;abc&quot;, &quot;tms&quot;: false}\n",
       "            );\n",
       "        \n",
       "    \n",
       "            tile_layer_34756219d7f9e6095072aaf5c9d1a370.addTo(map_79180445ef47506db4b0e0fe28a160c3);\n",
       "        \n",
       "    \n",
       "            var heat_map_e2e991076b706cd5bd99bd10df648111 = L.heatLayer(\n",
       "                [[41.976290414, -87.905227221, 4227.0], [41.754592961, -87.741528537, 3045.0], [41.883500187, -87.627876698, 2415.0], [41.897895128, -87.624096605, 1453.0], [41.909664252, -87.742728815, 1049.0], [41.896888586, -87.628203192, 1018.0], [41.788987036, -87.74147999, 901.0], [41.868180939, -87.709271389, 873.0], [41.885487535, -87.726422045, 854.0], [41.88233367, -87.627841791, 790.0], [41.904192368, -87.647000785, 788.0], [41.736259984, -87.628068782, 771.0], [41.721627204, -87.624485177, 768.0], [41.979006297, -87.906463155, 765.0], [41.891990384, -87.611461502, 758.0], [41.868541914, -87.639235361, 747.0], [42.019399237, -87.675049485, 703.0], [41.68995741, -87.637460623, 694.0], [41.899410159, -87.624131266, 691.0], [41.737094305, -87.572998178, 689.0]],\n",
       "                {&quot;blur&quot;: 15, &quot;maxZoom&quot;: 18, &quot;minOpacity&quot;: 0.5, &quot;radius&quot;: 25}\n",
       "            );\n",
       "        \n",
       "    \n",
       "            heat_map_e2e991076b706cd5bd99bd10df648111.addTo(map_79180445ef47506db4b0e0fe28a160c3);\n",
       "        \n",
       "&lt;/script&gt;\n",
       "&lt;/html&gt;\" style=\"position:absolute;width:100%;height:100%;left:0;top:0;border:none !important;\" allowfullscreen webkitallowfullscreen mozallowfullscreen></iframe></div></div>"
      ],
      "text/plain": [
       "<folium.folium.Map at 0x1b7bbc298a0>"
      ]
     },
     "execution_count": 32,
     "metadata": {},
     "output_type": "execute_result"
    }
   ],
   "source": [
    "# Create a base map centered at an approximate location\n",
    "map = folium.Map(location=[location_top['Latitude'].mean(), location_top['Longitude'].mean()], zoom_start=10)\n",
    "\n",
    "# Create a HeatMap layer\n",
    "heat_data = [[row['Latitude'], row['Longitude'], row['Frequency']] for index, row in location_top.iterrows()]\n",
    "HeatMap(heat_data).add_to(map)\n",
    "\n",
    "# Display map\n",
    "map\n"
   ]
  },
  {
   "cell_type": "markdown",
   "metadata": {},
   "source": [
    "## Top 10 crimes committed in chicago"
   ]
  },
  {
   "cell_type": "code",
   "execution_count": 33,
   "metadata": {
    "ExecuteTime": {
     "end_time": "2024-04-01T21:26:20.730357Z",
     "start_time": "2024-04-01T21:26:19.092857Z"
    }
   },
   "outputs": [],
   "source": [
    "import matplotlib.pyplot as plt"
   ]
  },
  {
   "cell_type": "code",
   "execution_count": 34,
   "metadata": {
    "ExecuteTime": {
     "end_time": "2024-04-01T21:26:21.178820Z",
     "start_time": "2024-04-01T21:26:20.736542Z"
    }
   },
   "outputs": [
    {
     "data": {
      "text/html": [
       "<div>\n",
       "<style scoped>\n",
       "    .dataframe tbody tr th:only-of-type {\n",
       "        vertical-align: middle;\n",
       "    }\n",
       "\n",
       "    .dataframe tbody tr th {\n",
       "        vertical-align: top;\n",
       "    }\n",
       "\n",
       "    .dataframe thead th {\n",
       "        text-align: right;\n",
       "    }\n",
       "</style>\n",
       "<table border=\"1\" class=\"dataframe\">\n",
       "  <thead>\n",
       "    <tr style=\"text-align: right;\">\n",
       "      <th></th>\n",
       "      <th>Primary Type</th>\n",
       "      <th>Count</th>\n",
       "    </tr>\n",
       "  </thead>\n",
       "  <tbody>\n",
       "    <tr>\n",
       "      <th>0</th>\n",
       "      <td>THEFT</td>\n",
       "      <td>469350</td>\n",
       "    </tr>\n",
       "    <tr>\n",
       "      <th>1</th>\n",
       "      <td>BATTERY</td>\n",
       "      <td>415455</td>\n",
       "    </tr>\n",
       "    <tr>\n",
       "      <th>2</th>\n",
       "      <td>CRIMINAL DAMAGE</td>\n",
       "      <td>256948</td>\n",
       "    </tr>\n",
       "    <tr>\n",
       "      <th>3</th>\n",
       "      <td>NARCOTICS</td>\n",
       "      <td>218885</td>\n",
       "    </tr>\n",
       "    <tr>\n",
       "      <th>4</th>\n",
       "      <td>ASSAULT</td>\n",
       "      <td>146478</td>\n",
       "    </tr>\n",
       "    <tr>\n",
       "      <th>5</th>\n",
       "      <td>OTHER OFFENSE</td>\n",
       "      <td>139656</td>\n",
       "    </tr>\n",
       "    <tr>\n",
       "      <th>6</th>\n",
       "      <td>BURGLARY</td>\n",
       "      <td>123426</td>\n",
       "    </tr>\n",
       "    <tr>\n",
       "      <th>7</th>\n",
       "      <td>MOTOR VEHICLE THEFT</td>\n",
       "      <td>104329</td>\n",
       "    </tr>\n",
       "    <tr>\n",
       "      <th>8</th>\n",
       "      <td>DECEPTIVE PRACTICE</td>\n",
       "      <td>93578</td>\n",
       "    </tr>\n",
       "    <tr>\n",
       "      <th>9</th>\n",
       "      <td>ROBBERY</td>\n",
       "      <td>84954</td>\n",
       "    </tr>\n",
       "  </tbody>\n",
       "</table>\n",
       "</div>"
      ],
      "text/plain": [
       "          Primary Type   Count\n",
       "0                THEFT  469350\n",
       "1              BATTERY  415455\n",
       "2      CRIMINAL DAMAGE  256948\n",
       "3            NARCOTICS  218885\n",
       "4              ASSAULT  146478\n",
       "5        OTHER OFFENSE  139656\n",
       "6             BURGLARY  123426\n",
       "7  MOTOR VEHICLE THEFT  104329\n",
       "8   DECEPTIVE PRACTICE   93578\n",
       "9              ROBBERY   84954"
      ]
     },
     "execution_count": 34,
     "metadata": {},
     "output_type": "execute_result"
    }
   ],
   "source": [
    "top_crimes = chicago['Primary Type'].value_counts().nlargest(10).reset_index(name='Count')\n",
    "top_crimes"
   ]
  },
  {
   "cell_type": "code",
   "execution_count": 35,
   "metadata": {
    "ExecuteTime": {
     "end_time": "2024-04-01T21:26:21.823850Z",
     "start_time": "2024-04-01T21:26:21.181878Z"
    },
    "scrolled": false
   },
   "outputs": [
    {
     "data": {
      "image/png": "[encoded data removed]",
      "text/plain": [
       "<Figure size 1000x500 with 1 Axes>"
      ]
     },
     "metadata": {},
     "output_type": "display_data"
    }
   ],
   "source": [
    "#Plotting a horizontal bar chart\n",
    "\n",
    "plt.figure(figsize=(10,5))\n",
    "plt.barh(top_crimes['Primary Type'], top_crimes['Count'], height=0.4, color='green')\n",
    "\n",
    "for index, value in enumerate(top_crimes['Count']):\n",
    "    plt.text(value, index, str(value))  # Add frequency as label\n",
    "plt.xlabel('Count of Crime')\n",
    "plt.ylabel('Primary Type')\n",
    "plt.title('Top 10 Crimes in Chicago')\n",
    "plt.show()\n"
   ]
  },
  {
   "cell_type": "markdown",
   "metadata": {},
   "source": [
    "## Crime committed by Community Name"
   ]
  },
  {
   "cell_type": "code",
   "execution_count": 36,
   "metadata": {
    "ExecuteTime": {
     "end_time": "2024-04-01T21:26:22.790384Z",
     "start_time": "2024-04-01T21:26:21.828921Z"
    }
   },
   "outputs": [
    {
     "data": {
      "text/plain": [
       "Community Name   Primary Type     \n",
       "Near North Side  THEFT                31299\n",
       "Austin           BATTERY              29053\n",
       "                 NARCOTICS            28829\n",
       "(The) Loop       THEFT                26451\n",
       "Near West Side   THEFT                21358\n",
       "                                      ...  \n",
       "Albany Park      OBSCENITY                1\n",
       "Hyde Park        PUBLIC INDECENCY         1\n",
       "Humboldt Park    PUBLIC INDECENCY         1\n",
       "Washington Park  PUBLIC INDECENCY         1\n",
       "Woodlawn         HUMAN TRAFFICKING        1\n",
       "Name: count, Length: 2213, dtype: int64"
      ]
     },
     "execution_count": 36,
     "metadata": {},
     "output_type": "execute_result"
    }
   ],
   "source": [
    "crime_by_community = chicago.groupby('Community Name')['Primary Type'].value_counts().sort_values(ascending=False)\n",
    "crime_by_community"
   ]
  },
  {
   "cell_type": "markdown",
   "metadata": {},
   "source": [
    "## Total crime by Year"
   ]
  },
  {
   "cell_type": "code",
   "execution_count": 37,
   "metadata": {
    "ExecuteTime": {
     "end_time": "2024-04-01T21:26:22.940450Z",
     "start_time": "2024-04-01T21:26:22.798737Z"
    }
   },
   "outputs": [
    {
     "data": {
      "text/plain": [
       "Year\n",
       "2022     36563\n",
       "2021     60754\n",
       "2020     62270\n",
       "2019     77158\n",
       "2018     79056\n",
       "2017     79144\n",
       "2016     80075\n",
       "2015     76867\n",
       "2014     81663\n",
       "2013     91016\n",
       "2012    100077\n",
       "2011    104976\n",
       "2010    110344\n",
       "2009    115627\n",
       "2008    125044\n",
       "2007    129558\n",
       "2006    133127\n",
       "2005    133715\n",
       "2004    139270\n",
       "2003    140502\n",
       "2002    140014\n",
       "2001    144551\n",
       "dtype: int64"
      ]
     },
     "execution_count": 37,
     "metadata": {},
     "output_type": "execute_result"
    }
   ],
   "source": [
    "year_subset = chicago.groupby(chicago['Year'])\n",
    "crime_by_year = year_subset.size().sort_index(ascending=False)\n",
    "crime_by_year"
   ]
  },
  {
   "cell_type": "code",
   "execution_count": 38,
   "metadata": {
    "ExecuteTime": {
     "end_time": "2024-04-01T21:26:23.490648Z",
     "start_time": "2024-04-01T21:26:22.947563Z"
    }
   },
   "outputs": [
    {
     "data": {
      "image/png": "[encoded data removed]",
      "text/plain": [
       "<Figure size 1000x600 with 1 Axes>"
      ]
     },
     "metadata": {},
     "output_type": "display_data"
    }
   ],
   "source": [
    "crime_by_year.plot(kind='line', marker='o', figsize=(10,6))\n",
    "\n",
    "plt.title('Crime trend by Year')\n",
    "plt.xlabel('Year')\n",
    "plt.ylabel('Total Crime')\n",
    "plt.grid(True)\n",
    "plt.xticks(crime_by_year.index[::2])\n",
    "\n",
    "plt.show()"
   ]
  },
  {
   "cell_type": "markdown",
   "metadata": {},
   "source": [
    "## Arrests in Chicago"
   ]
  },
  {
   "cell_type": "code",
   "execution_count": 39,
   "metadata": {
    "ExecuteTime": {
     "end_time": "2024-04-01T21:26:23.560425Z",
     "start_time": "2024-04-01T21:26:23.498221Z"
    }
   },
   "outputs": [
    {
     "data": {
      "text/plain": [
       "Arrest\n",
       "False    1646061\n",
       "True      595310\n",
       "Name: count, dtype: int64"
      ]
     },
     "execution_count": 39,
     "metadata": {},
     "output_type": "execute_result"
    }
   ],
   "source": [
    "arrest_in_chicago = chicago['Arrest'].value_counts()\n",
    "arrest_in_chicago"
   ]
  },
  {
   "cell_type": "code",
   "execution_count": 40,
   "metadata": {
    "ExecuteTime": {
     "end_time": "2024-04-01T21:26:23.819652Z",
     "start_time": "2024-04-01T21:26:23.564763Z"
    }
   },
   "outputs": [
    {
     "data": {
      "image/png": "[encoded data removed]",
      "text/plain": [
       "<Figure size 640x480 with 1 Axes>"
      ]
     },
     "metadata": {},
     "output_type": "display_data"
    }
   ],
   "source": [
    "arrest_status = ['True','False']\n",
    "plt.pie(arrest_in_chicago,autopct='%1.1f%%', labels = arrest_status, radius=0.8)\n",
    "plt.title('Police Arrests in Chicago')\n",
    "plt.legend()\n",
    "plt.show()"
   ]
  },
  {
   "cell_type": "code",
   "execution_count": 51,
   "metadata": {
    "ExecuteTime": {
     "end_time": "2024-04-01T21:41:55.901691Z",
     "start_time": "2024-04-01T21:41:53.076670Z"
    }
   },
   "outputs": [
    {
     "data": {
      "text/plain": [
       "<matplotlib.legend.Legend at 0x1b7d6655de0>"
      ]
     },
     "execution_count": 51,
     "metadata": {},
     "output_type": "execute_result"
    },
    {
     "data": {
      "image/png": "[encoded data removed]",
      "text/plain": [
       "<Figure size 640x480 with 1 Axes>"
      ]
     },
     "metadata": {},
     "output_type": "display_data"
    }
   ],
   "source": [
    "fig, ax = plt.subplots()\n",
    "\n",
    "ax.hist(chicago[chicago[\"Arrest\"]==True][\"Day of Incident\"],bins=15, alpha=0.5, color='green', label=\"arrested\")\n",
    "ax.hist(chicago[chicago[\"Arrest\"]==False][\"Day of Incident\"], bins=15, alpha=0.5, color='blue', label=\"not arrested\")\n",
    "\n",
    "ax.set_xlabel(\"Day of Incident\")\n",
    "ax.set_ylabel(\"Count of Crime\")\n",
    "\n",
    "fig.suptitle(\"Month of Incident vs. Status of Arrest\")\n",
    "\n",
    "ax.legend()"
   ]
  },
  {
   "cell_type": "markdown",
   "metadata": {},
   "source": [
    "### Distribution of Arrests over the Years"
   ]
  },
  {
   "cell_type": "code",
   "execution_count": 53,
   "metadata": {
    "ExecuteTime": {
     "end_time": "2024-04-01T21:49:45.072479Z",
     "start_time": "2024-04-01T21:48:53.710279Z"
    }
   },
   "outputs": [
    {
     "name": "stderr",
     "output_type": "stream",
     "text": [
      "C:\\Users\\CUB\\AppData\\Local\\Temp\\ipykernel_23592\\3098575463.py:4: FutureWarning: \n",
      "\n",
      "`shade` is now deprecated in favor of `fill`; setting `fill=True`.\n",
      "This will become an error in seaborn v0.14.0; please update your code.\n",
      "\n",
      "  sns.kdeplot(chicago[chicago[\"Arrest\"]==True][\"Year\"], shade=True, color=\"blue\", label=\"arrested\", ax=ax)\n",
      "C:\\Users\\CUB\\AppData\\Local\\Temp\\ipykernel_23592\\3098575463.py:5: FutureWarning: \n",
      "\n",
      "`shade` is now deprecated in favor of `fill`; setting `fill=True`.\n",
      "This will become an error in seaborn v0.14.0; please update your code.\n",
      "\n",
      "  sns.kdeplot(chicago[chicago[\"Arrest\"]==False][\"Year\"], shade=True, color=\"green\", label=\"not arrested\", ax=ax)\n"
     ]
    },
    {
     "data": {
      "image/png": "[encoded data removed]",
      "text/plain": [
       "<Figure size 640x480 with 1 Axes>"
      ]
     },
     "metadata": {},
     "output_type": "display_data"
    }
   ],
   "source": [
    "import seaborn as sns\n",
    "fig, ax = plt.subplots()\n",
    "\n",
    "sns.kdeplot(chicago[chicago[\"Arrest\"]==True][\"Year\"], shade=True, color=\"blue\", label=\"arrested\", ax=ax)\n",
    "sns.kdeplot(chicago[chicago[\"Arrest\"]==False][\"Year\"], shade=True, color=\"green\", label=\"not arrested\", ax=ax)\n",
    "\n",
    "ax.set_xlabel(\"Year\")\n",
    "ax.set_ylabel(\"Density\")\n",
    "\n",
    "fig.suptitle(\"Year vs.Status of Arrest\");"
   ]
  },
  {
   "cell_type": "markdown",
   "metadata": {},
   "source": [
    "## Crimes by Season in Chicago"
   ]
  },
  {
   "cell_type": "code",
   "execution_count": 54,
   "metadata": {
    "ExecuteTime": {
     "end_time": "2024-04-01T22:05:14.520080Z",
     "start_time": "2024-04-01T22:05:14.144102Z"
    }
   },
   "outputs": [
    {
     "data": {
      "text/html": [
       "<div>\n",
       "<style scoped>\n",
       "    .dataframe tbody tr th:only-of-type {\n",
       "        vertical-align: middle;\n",
       "    }\n",
       "\n",
       "    .dataframe tbody tr th {\n",
       "        vertical-align: top;\n",
       "    }\n",
       "\n",
       "    .dataframe thead th {\n",
       "        text-align: right;\n",
       "    }\n",
       "</style>\n",
       "<table border=\"1\" class=\"dataframe\">\n",
       "  <thead>\n",
       "    <tr style=\"text-align: right;\">\n",
       "      <th></th>\n",
       "      <th>Season</th>\n",
       "      <th>Count of Crime</th>\n",
       "    </tr>\n",
       "  </thead>\n",
       "  <tbody>\n",
       "    <tr>\n",
       "      <th>0</th>\n",
       "      <td>Summer</td>\n",
       "      <td>615757</td>\n",
       "    </tr>\n",
       "    <tr>\n",
       "      <th>1</th>\n",
       "      <td>Spring</td>\n",
       "      <td>572478</td>\n",
       "    </tr>\n",
       "    <tr>\n",
       "      <th>2</th>\n",
       "      <td>Autumn</td>\n",
       "      <td>556263</td>\n",
       "    </tr>\n",
       "    <tr>\n",
       "      <th>3</th>\n",
       "      <td>Winter</td>\n",
       "      <td>496873</td>\n",
       "    </tr>\n",
       "  </tbody>\n",
       "</table>\n",
       "</div>"
      ],
      "text/plain": [
       "   Season  Count of Crime\n",
       "0  Summer          615757\n",
       "1  Spring          572478\n",
       "2  Autumn          556263\n",
       "3  Winter          496873"
      ]
     },
     "execution_count": 54,
     "metadata": {},
     "output_type": "execute_result"
    }
   ],
   "source": [
    "crime_by_season = chicago['Season'].value_counts().reset_index(name='Count of Crime')\n",
    "crime_by_season"
   ]
  },
  {
   "cell_type": "code",
   "execution_count": 55,
   "metadata": {
    "ExecuteTime": {
     "end_time": "2024-04-01T22:05:15.774933Z",
     "start_time": "2024-04-01T22:05:15.267329Z"
    },
    "scrolled": true
   },
   "outputs": [
    {
     "data": {
      "image/png": "[encoded data removed]",
      "text/plain": [
       "<Figure size 900x500 with 1 Axes>"
      ]
     },
     "metadata": {},
     "output_type": "display_data"
    }
   ],
   "source": [
    "\n",
    "plt.figure(figsize=(9,5))\n",
    "plt.bar(crime_by_season['Season'], crime_by_season['Count of Crime'],width=0.5, color = 'indigo') \n",
    "for index, value in enumerate(crime_by_season['Count of Crime']):\n",
    "    plt.text(index,value, str(value))  # Add frequency as label\n",
    "plt.xlabel('Seasons')\n",
    "plt.ylabel('Count of Crime')\n",
    "plt.title('Total Crime by Season in Chicago')\n",
    "plt.xticks(rotation=45)\n",
    "plt.tight_layout()\n",
    "plt.show()"
   ]
  },
  {
   "cell_type": "markdown",
   "metadata": {},
   "source": [
    "## Top 10 Locations by Crime"
   ]
  },
  {
   "cell_type": "code",
   "execution_count": 56,
   "metadata": {
    "ExecuteTime": {
     "end_time": "2024-04-01T22:05:17.333820Z",
     "start_time": "2024-04-01T22:05:16.880202Z"
    }
   },
   "outputs": [
    {
     "data": {
      "text/html": [
       "<div>\n",
       "<style scoped>\n",
       "    .dataframe tbody tr th:only-of-type {\n",
       "        vertical-align: middle;\n",
       "    }\n",
       "\n",
       "    .dataframe tbody tr th {\n",
       "        vertical-align: top;\n",
       "    }\n",
       "\n",
       "    .dataframe thead th {\n",
       "        text-align: right;\n",
       "    }\n",
       "</style>\n",
       "<table border=\"1\" class=\"dataframe\">\n",
       "  <thead>\n",
       "    <tr style=\"text-align: right;\">\n",
       "      <th></th>\n",
       "      <th>Location Description</th>\n",
       "      <th>Count of Crime</th>\n",
       "    </tr>\n",
       "  </thead>\n",
       "  <tbody>\n",
       "    <tr>\n",
       "      <th>9</th>\n",
       "      <td>RESIDENCE-GARAGE</td>\n",
       "      <td>39648</td>\n",
       "    </tr>\n",
       "    <tr>\n",
       "      <th>8</th>\n",
       "      <td>SMALL RETAIL STORE</td>\n",
       "      <td>42260</td>\n",
       "    </tr>\n",
       "    <tr>\n",
       "      <th>7</th>\n",
       "      <td>SCHOOL, PUBLIC, BUILDING</td>\n",
       "      <td>43216</td>\n",
       "    </tr>\n",
       "    <tr>\n",
       "      <th>6</th>\n",
       "      <td>ALLEY</td>\n",
       "      <td>50188</td>\n",
       "    </tr>\n",
       "    <tr>\n",
       "      <th>5</th>\n",
       "      <td>PARKING LOT/GARAGE(NON.RESID.)</td>\n",
       "      <td>60248</td>\n",
       "    </tr>\n",
       "    <tr>\n",
       "      <th>4</th>\n",
       "      <td>OTHER</td>\n",
       "      <td>79333</td>\n",
       "    </tr>\n",
       "    <tr>\n",
       "      <th>3</th>\n",
       "      <td>SIDEWALK</td>\n",
       "      <td>214527</td>\n",
       "    </tr>\n",
       "    <tr>\n",
       "      <th>2</th>\n",
       "      <td>APARTMENT</td>\n",
       "      <td>249581</td>\n",
       "    </tr>\n",
       "    <tr>\n",
       "      <th>1</th>\n",
       "      <td>RESIDENCE</td>\n",
       "      <td>376440</td>\n",
       "    </tr>\n",
       "    <tr>\n",
       "      <th>0</th>\n",
       "      <td>STREET</td>\n",
       "      <td>583480</td>\n",
       "    </tr>\n",
       "  </tbody>\n",
       "</table>\n",
       "</div>"
      ],
      "text/plain": [
       "             Location Description  Count of Crime\n",
       "9                RESIDENCE-GARAGE           39648\n",
       "8              SMALL RETAIL STORE           42260\n",
       "7        SCHOOL, PUBLIC, BUILDING           43216\n",
       "6                           ALLEY           50188\n",
       "5  PARKING LOT/GARAGE(NON.RESID.)           60248\n",
       "4                           OTHER           79333\n",
       "3                        SIDEWALK          214527\n",
       "2                       APARTMENT          249581\n",
       "1                       RESIDENCE          376440\n",
       "0                          STREET          583480"
      ]
     },
     "execution_count": 56,
     "metadata": {},
     "output_type": "execute_result"
    }
   ],
   "source": [
    "crime_by_location = chicago['Location Description'].value_counts().nlargest(10).reset_index(name='Count of Crime').sort_values(ascending=True, by='Count of Crime')\n",
    "crime_by_location"
   ]
  },
  {
   "cell_type": "code",
   "execution_count": 57,
   "metadata": {
    "ExecuteTime": {
     "end_time": "2024-04-01T22:05:18.186170Z",
     "start_time": "2024-04-01T22:05:17.701497Z"
    }
   },
   "outputs": [
    {
     "data": {
      "image/png": "[encoded data removed]",
      "text/plain": [
       "<Figure size 1000x500 with 1 Axes>"
      ]
     },
     "metadata": {},
     "output_type": "display_data"
    }
   ],
   "source": [
    "plt.figure(figsize=(10,5))\n",
    "plt.barh(crime_by_location['Location Description'], crime_by_location['Count of Crime'], height=0.5, color='red')\n",
    "\n",
    "for index, value in enumerate(crime_by_location['Count of Crime']):\n",
    "    plt.text(value, index, str(value))  # Add frequency as label\n",
    "plt.xlabel('Count of Crime')\n",
    "plt.ylabel('Location Description')\n",
    "plt.title('Top 10 Crime Locations in Chicago')\n",
    "plt.show()"
   ]
  },
  {
   "cell_type": "markdown",
   "metadata": {},
   "source": [
    "## Top 10 communities with the most crime incidents"
   ]
  },
  {
   "cell_type": "code",
   "execution_count": 58,
   "metadata": {
    "ExecuteTime": {
     "end_time": "2024-04-01T22:05:19.560715Z",
     "start_time": "2024-04-01T22:05:19.288477Z"
    }
   },
   "outputs": [
    {
     "data": {
      "text/plain": [
       "Community Name\n",
       "Austin             141925\n",
       "Near North Side     78979\n",
       "South Shore         74855\n",
       "Humboldt Park       71005\n",
       "Near West Side      67444\n",
       "West Town           66107\n",
       "North Lawndale      65603\n",
       "West Englewood      65146\n",
       "Auburn Gresham      64139\n",
       "Roseland            60018\n",
       "Name: count, dtype: int64"
      ]
     },
     "execution_count": 58,
     "metadata": {},
     "output_type": "execute_result"
    }
   ],
   "source": [
    "crime_by_community = chicago['Community Name'].value_counts().nlargest(10)\n",
    "crime_by_community"
   ]
  },
  {
   "cell_type": "markdown",
   "metadata": {},
   "source": [
    "## Communities with the least crime incidents"
   ]
  },
  {
   "cell_type": "code",
   "execution_count": 59,
   "metadata": {
    "ExecuteTime": {
     "end_time": "2024-04-01T22:05:20.725077Z",
     "start_time": "2024-04-01T22:05:20.544571Z"
    }
   },
   "outputs": [
    {
     "data": {
      "text/plain": [
       "Community Name\n",
       "Edison Park        2258\n",
       "Burnside           3468\n",
       "Forest Glen        4154\n",
       "Hegewisch          4979\n",
       "Mount Greenwood    5065\n",
       "Name: count, dtype: int64"
      ]
     },
     "execution_count": 59,
     "metadata": {},
     "output_type": "execute_result"
    }
   ],
   "source": [
    "least_crime = chicago['Community Name'].value_counts().nsmallest(5)\n",
    "least_crime"
   ]
  },
  {
   "cell_type": "markdown",
   "metadata": {},
   "source": [
    "## Crime Incident by Days"
   ]
  },
  {
   "cell_type": "code",
   "execution_count": 60,
   "metadata": {
    "ExecuteTime": {
     "end_time": "2024-04-01T22:05:22.560911Z",
     "start_time": "2024-04-01T22:05:21.771560Z"
    }
   },
   "outputs": [],
   "source": [
    "crime_by_days = chicago[\"Day of Incident\"].value_counts().reset_index(name='Count of Crime')"
   ]
  },
  {
   "cell_type": "code",
   "execution_count": 61,
   "metadata": {
    "ExecuteTime": {
     "end_time": "2024-04-01T22:05:22.910860Z",
     "start_time": "2024-04-01T22:05:22.889444Z"
    }
   },
   "outputs": [
    {
     "data": {
      "text/html": [
       "<div>\n",
       "<style scoped>\n",
       "    .dataframe tbody tr th:only-of-type {\n",
       "        vertical-align: middle;\n",
       "    }\n",
       "\n",
       "    .dataframe tbody tr th {\n",
       "        vertical-align: top;\n",
       "    }\n",
       "\n",
       "    .dataframe thead th {\n",
       "        text-align: right;\n",
       "    }\n",
       "</style>\n",
       "<table border=\"1\" class=\"dataframe\">\n",
       "  <thead>\n",
       "    <tr style=\"text-align: right;\">\n",
       "      <th></th>\n",
       "      <th>Day of Incident</th>\n",
       "      <th>Count of Crime</th>\n",
       "    </tr>\n",
       "  </thead>\n",
       "  <tbody>\n",
       "    <tr>\n",
       "      <th>0</th>\n",
       "      <td>Friday</td>\n",
       "      <td>336882</td>\n",
       "    </tr>\n",
       "    <tr>\n",
       "      <th>1</th>\n",
       "      <td>Wednesday</td>\n",
       "      <td>322431</td>\n",
       "    </tr>\n",
       "    <tr>\n",
       "      <th>2</th>\n",
       "      <td>Saturday</td>\n",
       "      <td>321444</td>\n",
       "    </tr>\n",
       "    <tr>\n",
       "      <th>3</th>\n",
       "      <td>Tuesday</td>\n",
       "      <td>320393</td>\n",
       "    </tr>\n",
       "    <tr>\n",
       "      <th>4</th>\n",
       "      <td>Thursday</td>\n",
       "      <td>318817</td>\n",
       "    </tr>\n",
       "    <tr>\n",
       "      <th>5</th>\n",
       "      <td>Monday</td>\n",
       "      <td>316414</td>\n",
       "    </tr>\n",
       "    <tr>\n",
       "      <th>6</th>\n",
       "      <td>Sunday</td>\n",
       "      <td>304990</td>\n",
       "    </tr>\n",
       "  </tbody>\n",
       "</table>\n",
       "</div>"
      ],
      "text/plain": [
       "  Day of Incident  Count of Crime\n",
       "0          Friday          336882\n",
       "1       Wednesday          322431\n",
       "2        Saturday          321444\n",
       "3         Tuesday          320393\n",
       "4        Thursday          318817\n",
       "5          Monday          316414\n",
       "6          Sunday          304990"
      ]
     },
     "execution_count": 61,
     "metadata": {},
     "output_type": "execute_result"
    }
   ],
   "source": [
    "crime_by_days"
   ]
  },
  {
   "cell_type": "code",
   "execution_count": 62,
   "metadata": {
    "ExecuteTime": {
     "end_time": "2024-04-01T22:05:24.318789Z",
     "start_time": "2024-04-01T22:05:23.837065Z"
    },
    "scrolled": false
   },
   "outputs": [
    {
     "data": {
      "image/png": "[encoded data removed]",
      "text/plain": [
       "<Figure size 1000x500 with 1 Axes>"
      ]
     },
     "metadata": {},
     "output_type": "display_data"
    }
   ],
   "source": [
    "plt.figure(figsize=(10,5))\n",
    "plt.bar(crime_by_days['Day of Incident'],crime_by_days['Count of Crime'], width=0.5, color='indigo')\n",
    "for index, value in enumerate(crime_by_days['Count of Crime']):\n",
    "    plt.text(index,value, str(value))  # Add frequency as label\n",
    "plt.xlabel('Days')\n",
    "plt.ylabel('Count of Crime')\n",
    "plt.title('Crime by Days')\n",
    "plt.xticks(rotation=45)\n",
    "plt.tight_layout()\n",
    "plt.show()"
   ]
  },
  {
   "cell_type": "markdown",
   "metadata": {},
   "source": [
    "### Crime in the year 2022"
   ]
  },
  {
   "cell_type": "code",
   "execution_count": 63,
   "metadata": {
    "ExecuteTime": {
     "end_time": "2024-04-01T22:05:27.930624Z",
     "start_time": "2024-04-01T22:05:25.621134Z"
    }
   },
   "outputs": [],
   "source": [
    "crime_in_2022 = chicago[chicago['Year'] == 2022]"
   ]
  },
  {
   "cell_type": "code",
   "execution_count": 64,
   "metadata": {
    "ExecuteTime": {
     "end_time": "2024-04-01T22:05:27.993577Z",
     "start_time": "2024-04-01T22:05:27.936437Z"
    }
   },
   "outputs": [],
   "source": [
    "crime_by_primarytype = crime_in_2022.groupby(crime_in_2022['Primary Type']).size().sort_values(ascending=False)"
   ]
  },
  {
   "cell_type": "code",
   "execution_count": 65,
   "metadata": {
    "ExecuteTime": {
     "end_time": "2024-04-01T22:05:28.025744Z",
     "start_time": "2024-04-01T22:05:28.000092Z"
    }
   },
   "outputs": [
    {
     "data": {
      "text/plain": [
       "Primary Type\n",
       "THEFT                                8236\n",
       "BATTERY                              6810\n",
       "CRIMINAL DAMAGE                      4176\n",
       "ASSAULT                              3438\n",
       "OTHER OFFENSE                        2516\n",
       "MOTOR VEHICLE THEFT                  2291\n",
       "DECEPTIVE PRACTICE                   2193\n",
       "WEAPONS VIOLATION                    1565\n",
       "ROBBERY                              1398\n",
       "BURGLARY                             1184\n",
       "CRIMINAL TRESPASS                     721\n",
       "NARCOTICS                             703\n",
       "OFFENSE INVOLVING CHILDREN            316\n",
       "CRIMINAL SEXUAL ASSAULT               247\n",
       "SEX OFFENSE                           200\n",
       "HOMICIDE                              105\n",
       "PUBLIC PEACE VIOLATION                103\n",
       "INTERFERENCE WITH PUBLIC OFFICER       67\n",
       "ARSON                                  66\n",
       "STALKING                               55\n",
       "PROSTITUTION                           46\n",
       "CONCEALED CARRY LICENSE VIOLATION      38\n",
       "LIQUOR LAW VIOLATION                   38\n",
       "INTIMIDATION                           23\n",
       "KIDNAPPING                             17\n",
       "HUMAN TRAFFICKING                       7\n",
       "OBSCENITY                               3\n",
       "PUBLIC INDECENCY                        1\n",
       "dtype: int64"
      ]
     },
     "execution_count": 65,
     "metadata": {},
     "output_type": "execute_result"
    }
   ],
   "source": [
    "crime_by_primarytype"
   ]
  },
  {
   "cell_type": "code",
   "execution_count": null,
   "metadata": {},
   "outputs": [],
   "source": []
  }
 ],
 "metadata": {
  "kernelspec": {
   "display_name": "Python 3 (ipykernel)",
   "language": "python",
   "name": "python3"
  },
  "language_info": {
   "codemirror_mode": {
    "name": "ipython",
    "version": 3
   },
   "file_extension": ".py",
   "mimetype": "text/x-python",
   "name": "python",
   "nbconvert_exporter": "python",
   "pygments_lexer": "ipython3",
   "version": "3.10.13"
  }
 },
 "nbformat": 4,
 "nbformat_minor": 2
}
